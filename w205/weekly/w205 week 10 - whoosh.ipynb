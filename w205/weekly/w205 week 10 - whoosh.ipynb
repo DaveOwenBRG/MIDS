{
 "metadata": {
  "name": ""
 },
 "nbformat": 3,
 "nbformat_minor": 0,
 "worksheets": [
  {
   "cells": [
    {
     "cell_type": "code",
     "collapsed": false,
     "input": [
      "%pylab\n",
      "import whoosh"
     ],
     "language": "python",
     "metadata": {},
     "outputs": [
      {
       "output_type": "stream",
       "stream": "stdout",
       "text": [
        "Using matplotlib backend: TkAgg\n",
        "Populating the interactive namespace from numpy and matplotlib\n"
       ]
      },
      {
       "output_type": "stream",
       "stream": "stderr",
       "text": [
        "WARNING: pylab import has clobbered these variables: ['array', 'NaN']\n",
        "`%pylab --no-import-all` prevents importing * from pylab and numpy\n"
       ]
      }
     ],
     "prompt_number": 63
    },
    {
     "cell_type": "code",
     "collapsed": false,
     "input": [
      "from whoosh.index import create_in\n",
      "from whoosh.fields import *"
     ],
     "language": "python",
     "metadata": {},
     "outputs": [],
     "prompt_number": 80
    },
    {
     "cell_type": "code",
     "collapsed": false,
     "input": [
      "schema = Schema(title=TEXT(stored=True), path=ID(stored=True), content=TEXT)"
     ],
     "language": "python",
     "metadata": {},
     "outputs": [],
     "prompt_number": 81
    },
    {
     "cell_type": "code",
     "collapsed": false,
     "input": [
      "ix = create_in(\"/home/ray/MIDS/gutenberg/\", schema)"
     ],
     "language": "python",
     "metadata": {},
     "outputs": [],
     "prompt_number": 82
    },
    {
     "cell_type": "code",
     "collapsed": false,
     "input": [
      "writer = ix.writer()"
     ],
     "language": "python",
     "metadata": {},
     "outputs": [],
     "prompt_number": 83
    },
    {
     "cell_type": "code",
     "collapsed": false,
     "input": [
      "import os\n",
      "filenames = []\n",
      "for filename in os.listdir(\"/home/ray/MIDS/gutenberg/\"):\n",
      "    filenames.append(str(filename))"
     ],
     "language": "python",
     "metadata": {},
     "outputs": [],
     "prompt_number": 84
    },
    {
     "cell_type": "code",
     "collapsed": false,
     "input": [
      "filenames"
     ],
     "language": "python",
     "metadata": {},
     "outputs": [
      {
       "metadata": {},
       "output_type": "pyout",
       "prompt_number": 77,
       "text": [
        "['austen-sense.txt',\n",
        " 'carroll-alice.txt',\n",
        " '_MAIN_0.toc',\n",
        " 'bryant-stories.txt',\n",
        " 'chesterton-brown.txt',\n",
        " 'milton-paradise.txt',\n",
        " 'MAIN_t28lrj0l5ap2303r.seg',\n",
        " 'burgess-busterbrown.txt',\n",
        " 'README',\n",
        " 'austen-persuasion.txt',\n",
        " 'edgeworth-parents.txt',\n",
        " 'MAIN_WRITELOCK',\n",
        " 'melville-moby_dick.txt',\n",
        " 'shakespeare-caesar.txt',\n",
        " 'chesterton-thursday.txt',\n",
        " 'shakespeare-macbeth.txt',\n",
        " 'MAIN_eck4oo74g90zm4ag.trm',\n",
        " 'MAIN.tmp',\n",
        " 'MAIN_eck4oo74g90zm4ag.pst',\n",
        " 'austen-emma.txt',\n",
        " 'shakespeare-hamlet.txt',\n",
        " 'bible-kjv.txt',\n",
        " 'chesterton-ball.txt',\n",
        " 'blake-poems.txt',\n",
        " 'whitman-leaves.txt']"
       ]
      }
     ],
     "prompt_number": 77
    },
    {
     "cell_type": "code",
     "collapsed": false,
     "input": [
      "docs = []\n",
      "for fn in filenames:\n",
      "    with open(fn, 'r') as infile:\n",
      "        docs.append(infile)"
     ],
     "language": "python",
     "metadata": {},
     "outputs": [
      {
       "ename": "IOError",
       "evalue": "[Errno 2] No such file or directory: 'MAIN_m2v1uy86rbky6nge.pst'",
       "output_type": "pyerr",
       "traceback": [
        "\u001b[0;31m---------------------------------------------------------------------------\u001b[0m\n\u001b[0;31mIOError\u001b[0m                                   Traceback (most recent call last)",
        "\u001b[0;32m<ipython-input-88-c6508b12c818>\u001b[0m in \u001b[0;36m<module>\u001b[0;34m()\u001b[0m\n\u001b[1;32m      1\u001b[0m \u001b[0mdocs\u001b[0m \u001b[0;34m=\u001b[0m \u001b[0;34m[\u001b[0m\u001b[0;34m]\u001b[0m\u001b[0;34m\u001b[0m\u001b[0m\n\u001b[1;32m      2\u001b[0m \u001b[0;32mfor\u001b[0m \u001b[0mfn\u001b[0m \u001b[0;32min\u001b[0m \u001b[0mfilenames\u001b[0m\u001b[0;34m:\u001b[0m\u001b[0;34m\u001b[0m\u001b[0m\n\u001b[0;32m----> 3\u001b[0;31m     \u001b[0;32mwith\u001b[0m \u001b[0mopen\u001b[0m\u001b[0;34m(\u001b[0m\u001b[0mfn\u001b[0m\u001b[0;34m,\u001b[0m \u001b[0;34m'r'\u001b[0m\u001b[0;34m)\u001b[0m \u001b[0;32mas\u001b[0m \u001b[0minfile\u001b[0m\u001b[0;34m:\u001b[0m\u001b[0;34m\u001b[0m\u001b[0m\n\u001b[0m\u001b[1;32m      4\u001b[0m         \u001b[0mdocs\u001b[0m\u001b[0;34m.\u001b[0m\u001b[0mappend\u001b[0m\u001b[0;34m(\u001b[0m\u001b[0minfile\u001b[0m\u001b[0;34m)\u001b[0m\u001b[0;34m\u001b[0m\u001b[0m\n",
        "\u001b[0;31mIOError\u001b[0m: [Errno 2] No such file or directory: 'MAIN_m2v1uy86rbky6nge.pst'"
       ]
      }
     ],
     "prompt_number": 88
    },
    {
     "cell_type": "code",
     "collapsed": false,
     "input": [
      "dir = os.path.join(folder,\u2019myIndexDir\u2019)\n",
      "if not os.path.exists(dir): os.mkdir(dir) "
     ],
     "language": "python",
     "metadata": {},
     "outputs": []
    },
    {
     "cell_type": "code",
     "collapsed": false,
     "input": [
      "for doc in filenames:\n",
      "    writer.add_document(title = unicode(doc, \"utf8\"),\n",
      "                        path=unicode(\"/home/ray/MIDS/gutenberg/\",\"utf8\"),\n",
      "                        content=unicode(open(doc).read(),\"utf8\"))"
     ],
     "language": "python",
     "metadata": {},
     "outputs": [
      {
       "ename": "IOError",
       "evalue": "[Errno 2] No such file or directory: 'MAIN_m2v1uy86rbky6nge.pst'",
       "output_type": "pyerr",
       "traceback": [
        "\u001b[0;31m---------------------------------------------------------------------------\u001b[0m\n\u001b[0;31mIOError\u001b[0m                                   Traceback (most recent call last)",
        "\u001b[0;32m<ipython-input-85-4a73eaa047fd>\u001b[0m in \u001b[0;36m<module>\u001b[0;34m()\u001b[0m\n\u001b[1;32m      2\u001b[0m     writer.add_document(title = unicode(doc, \"utf8\"),\n\u001b[1;32m      3\u001b[0m                         \u001b[0mpath\u001b[0m\u001b[0;34m=\u001b[0m\u001b[0municode\u001b[0m\u001b[0;34m(\u001b[0m\u001b[0;34m\"/home/ray/MIDS/gutenberg/\"\u001b[0m\u001b[0;34m,\u001b[0m\u001b[0;34m\"utf8\"\u001b[0m\u001b[0;34m)\u001b[0m\u001b[0;34m,\u001b[0m\u001b[0;34m\u001b[0m\u001b[0m\n\u001b[0;32m----> 4\u001b[0;31m                         content=unicode(open(doc).read(),\"utf8\"))\n\u001b[0m",
        "\u001b[0;31mIOError\u001b[0m: [Errno 2] No such file or directory: 'MAIN_m2v1uy86rbky6nge.pst'"
       ]
      }
     ],
     "prompt_number": 85
    },
    {
     "cell_type": "code",
     "collapsed": false,
     "input": [
      "writer.commit()"
     ],
     "language": "python",
     "metadata": {},
     "outputs": [],
     "prompt_number": 79
    },
    {
     "cell_type": "code",
     "collapsed": false,
     "input": [
      "from whoosh.qparser import QueryParser"
     ],
     "language": "python",
     "metadata": {},
     "outputs": [],
     "prompt_number": 23
    },
    {
     "cell_type": "code",
     "collapsed": false,
     "input": [
      "with ix.searcher() as searcher:\n",
      "    query = QueryParser(\"Emma\", ix.schema).parse(\"first\")\n",
      "    results = searcher.search(query)\n",
      "    results[0]"
     ],
     "language": "python",
     "metadata": {},
     "outputs": [
      {
       "ename": "IndexError",
       "evalue": "results[0]: Results only has 0 hits",
       "output_type": "pyerr",
       "traceback": [
        "\u001b[0;31m---------------------------------------------------------------------------\u001b[0m\n\u001b[0;31mIndexError\u001b[0m                                Traceback (most recent call last)",
        "\u001b[0;32m<ipython-input-24-7bba1f89e6c6>\u001b[0m in \u001b[0;36m<module>\u001b[0;34m()\u001b[0m\n\u001b[1;32m      2\u001b[0m     \u001b[0mquery\u001b[0m \u001b[0;34m=\u001b[0m \u001b[0mQueryParser\u001b[0m\u001b[0;34m(\u001b[0m\u001b[0;34m\"Emma\"\u001b[0m\u001b[0;34m,\u001b[0m \u001b[0mix\u001b[0m\u001b[0;34m.\u001b[0m\u001b[0mschema\u001b[0m\u001b[0;34m)\u001b[0m\u001b[0;34m.\u001b[0m\u001b[0mparse\u001b[0m\u001b[0;34m(\u001b[0m\u001b[0;34m\"first\"\u001b[0m\u001b[0;34m)\u001b[0m\u001b[0;34m\u001b[0m\u001b[0m\n\u001b[1;32m      3\u001b[0m     \u001b[0mresults\u001b[0m \u001b[0;34m=\u001b[0m \u001b[0msearcher\u001b[0m\u001b[0;34m.\u001b[0m\u001b[0msearch\u001b[0m\u001b[0;34m(\u001b[0m\u001b[0mquery\u001b[0m\u001b[0;34m)\u001b[0m\u001b[0;34m\u001b[0m\u001b[0m\n\u001b[0;32m----> 4\u001b[0;31m     \u001b[0mresults\u001b[0m\u001b[0;34m[\u001b[0m\u001b[0;36m0\u001b[0m\u001b[0;34m]\u001b[0m\u001b[0;34m\u001b[0m\u001b[0m\n\u001b[0m",
        "\u001b[0;32m/usr/local/lib/python2.7/dist-packages/whoosh/searching.pyc\u001b[0m in \u001b[0;36m__getitem__\u001b[0;34m(self, n)\u001b[0m\n\u001b[1;32m    992\u001b[0m             \u001b[0;32mif\u001b[0m \u001b[0mn\u001b[0m \u001b[0;34m>=\u001b[0m \u001b[0mlen\u001b[0m\u001b[0;34m(\u001b[0m\u001b[0mself\u001b[0m\u001b[0;34m.\u001b[0m\u001b[0mtop_n\u001b[0m\u001b[0;34m)\u001b[0m\u001b[0;34m:\u001b[0m\u001b[0;34m\u001b[0m\u001b[0m\n\u001b[1;32m    993\u001b[0m                 raise IndexError(\"results[%r]: Results only has %s hits\"\n\u001b[0;32m--> 994\u001b[0;31m                                  % (n, len(self.top_n)))\n\u001b[0m\u001b[1;32m    995\u001b[0m             \u001b[0;32mreturn\u001b[0m \u001b[0mHit\u001b[0m\u001b[0;34m(\u001b[0m\u001b[0mself\u001b[0m\u001b[0;34m,\u001b[0m \u001b[0mself\u001b[0m\u001b[0;34m.\u001b[0m\u001b[0mtop_n\u001b[0m\u001b[0;34m[\u001b[0m\u001b[0mn\u001b[0m\u001b[0;34m]\u001b[0m\u001b[0;34m[\u001b[0m\u001b[0;36m1\u001b[0m\u001b[0;34m]\u001b[0m\u001b[0;34m,\u001b[0m \u001b[0mn\u001b[0m\u001b[0;34m,\u001b[0m \u001b[0mself\u001b[0m\u001b[0;34m.\u001b[0m\u001b[0mtop_n\u001b[0m\u001b[0;34m[\u001b[0m\u001b[0mn\u001b[0m\u001b[0;34m]\u001b[0m\u001b[0;34m[\u001b[0m\u001b[0;36m0\u001b[0m\u001b[0;34m]\u001b[0m\u001b[0;34m)\u001b[0m\u001b[0;34m\u001b[0m\u001b[0m\n\u001b[1;32m    996\u001b[0m \u001b[0;34m\u001b[0m\u001b[0m\n",
        "\u001b[0;31mIndexError\u001b[0m: results[0]: Results only has 0 hits"
       ]
      }
     ],
     "prompt_number": 24
    },
    {
     "cell_type": "code",
     "collapsed": false,
     "input": [
      "import glob\n",
      "def FindFiles():\n",
      "    count = 0\n",
      "    for fn in glob.glob(\"./gutenberg/*.txt\"):\n",
      "        count += 1\n",
      "        with open(fn,'r') as f:\n",
      "            firstline = f.readline()\n",
      "            print \"####\"\n",
      "            print firstline\n",
      "            title = find_between_r(firstline,\"[\",\"by\")\n",
      "            ay = find_between_r(firstline,\"by\",\"]\")\n",
      "            y = [int(s) for s in ay.split() if s.isdigit()]\n",
      "            al = [s for s in ay.split() if not s.isdigit()]\n",
      "            author = ' '.join(al)\n",
      "            year = None\n",
      "            if len(y) > 0:\n",
      "                year = y[0]\n",
      "                print title\n",
      "                print author\n",
      "                print year"
     ],
     "language": "python",
     "metadata": {},
     "outputs": [],
     "prompt_number": 31
    },
    {
     "cell_type": "code",
     "collapsed": false,
     "input": [
      "def find_between_r( s, first, last ):\n",
      "    try:\n",
      "        start = s.rindex( first ) + len( first )\n",
      "        end = s.rindex( last, start )\n",
      "        return s[start:end]\n",
      "    except ValueError:\n",
      "        return \"\""
     ],
     "language": "python",
     "metadata": {},
     "outputs": [],
     "prompt_number": 32
    },
    {
     "cell_type": "code",
     "collapsed": false,
     "input": [
      "FindFiles()"
     ],
     "language": "python",
     "metadata": {},
     "outputs": [
      {
       "output_type": "stream",
       "stream": "stdout",
       "text": [
        "####\n",
        "[Sense and Sensibility by Jane Austen 1811]\n",
        "\n",
        "Sense and Sensibility \n",
        "Jane Austen\n",
        "1811\n",
        "####\n",
        "[Alice's Adventures in Wonderland by Lewis Carroll 1865]\n",
        "\n",
        "Alice's Adventures in Wonderland \n",
        "Lewis Carroll\n",
        "1865\n",
        "####\n",
        "[Stories to Tell to Children by Sara Cone Bryant 1918] \r\n",
        "\n",
        "Stories to Tell to Children \n",
        "Sara Cone Bryant\n",
        "1918\n",
        "####\n",
        "[The Wisdom of Father Brown by G. K. Chesterton 1914]\n",
        "\n",
        "The Wisdom of Father Brown \n",
        "G. K. Chesterton\n",
        "1914\n",
        "####\n",
        "[Paradise Lost by John Milton 1667] \n",
        "\n",
        "Paradise Lost \n",
        "John Milton\n",
        "1667\n",
        "####\n",
        "[The Adventures of Buster Bear by Thornton W. Burgess 1920]\r\n",
        "\n",
        "The Adventures of Buster Bear \n",
        "Thornton W. Burgess\n",
        "1920\n",
        "####\n",
        "[Persuasion by Jane Austen 1818]\n",
        "\n",
        "Persuasion \n",
        "Jane Austen\n",
        "1818\n",
        "####\n",
        "[The Parent's Assistant, by Maria Edgeworth]\r\n",
        "\n",
        "####\n",
        "[Moby Dick by Herman Melville 1851]\r\n",
        "\n",
        "Moby Dick \n",
        "Herman Melville\n",
        "1851\n",
        "####\n",
        "[The Tragedie of Julius Caesar by William Shakespeare 1599]\n",
        "\n",
        "The Tragedie of Julius Caesar \n",
        "William Shakespeare\n",
        "1599\n",
        "####\n",
        "[The Man Who Was Thursday by G. K. Chesterton 1908]\n",
        "\n",
        "The Man Who Was Thursday \n",
        "G. K. Chesterton\n",
        "1908\n",
        "####\n",
        "[The Tragedie of Macbeth by William Shakespeare 1603]\n",
        "\n",
        "The Tragedie of Macbeth \n",
        "William Shakespeare\n",
        "1603\n",
        "####\n",
        "[Emma by Jane Austen 1816]\n",
        "\n",
        "Emma \n",
        "Jane Austen\n",
        "1816\n",
        "####\n",
        "[The Tragedie of Hamlet by William Shakespeare 1599]\n",
        "\n",
        "The Tragedie of Hamlet \n",
        "William Shakespeare\n",
        "1599\n",
        "####\n",
        "[The King James Bible]\n",
        "\n",
        "####\n",
        "[The Ball and The Cross by G.K. Chesterton 1909]\n",
        "\n",
        "The Ball and The Cross \n",
        "G.K. Chesterton\n",
        "1909\n",
        "####\n",
        "[Poems by William Blake 1789]\n",
        "\n",
        "Poems \n",
        "William Blake\n",
        "1789\n",
        "####\n",
        "[Leaves of Grass by Walt Whitman 1855]\n",
        "\n",
        "Leaves of Grass \n",
        "Walt Whitman\n",
        "1855\n"
       ]
      }
     ],
     "prompt_number": 33
    },
    {
     "cell_type": "code",
     "collapsed": false,
     "input": [
      "def CreateSchemaInitIndex():\n",
      "    print \"Creating schema\"\n",
      "    my_schema = Schema(id = ID(unique = True, stored = True),\\\n",
      "                       path = ID(stored = True),\\\n",
      "                       source = ID(stored = True),\\\n",
      "                       author = TEXT(stored = True),\\\n",
      "                       title = TEXT(stored = True),\\\n",
      "                       year = TEXT(stored = True),\\\n",
      "                       text = TEXT)\n",
      "    print my_schema\n",
      "    if not os.path.exists(\"g-index\"):\n",
      "        os.mkdir(\"g-index\")\n",
      "    index = create_in(\"g-index\", my_schema)"
     ],
     "language": "python",
     "metadata": {},
     "outputs": [],
     "prompt_number": 89
    },
    {
     "cell_type": "code",
     "collapsed": false,
     "input": [
      "def AddDocToIndex(_id, _source, _author, _title, _year):\n",
      "    index = open_dir(\"g-index\")\n",
      "    writer = index.writer()\n",
      "    print \"Creating index {}\".format(_id)\n",
      "    writer.add_document(id = _id,\\\n",
      "                        path = _source,\\\n",
      "                        source = _source,\\\n",
      "                        author = _author,\\\n",
      "                        title = _title,\\\n",
      "                        year = _year,\\\n",
      "                        text = io.open(_source, encoding='utf-8').read())\n",
      "    writer.commit()"
     ],
     "language": "python",
     "metadata": {},
     "outputs": [],
     "prompt_number": 90
    },
    {
     "cell_type": "code",
     "collapsed": false,
     "input": [
      "def RunAndPrintQuery(q, index):\n",
      "    searcher = index.searcher()\n",
      "    results = searcher.search(q)\n",
      "    print 'Query: {}'.format(q)\n",
      "    print '#of hits: {}'.format(len(results))\n",
      "    print 'Best Match: {}'.format(results[0])"
     ],
     "language": "python",
     "metadata": {},
     "outputs": [],
     "prompt_number": 91
    },
    {
     "cell_type": "code",
     "collapsed": false,
     "input": [],
     "language": "python",
     "metadata": {},
     "outputs": []
    }
   ],
   "metadata": {}
  }
 ]
}