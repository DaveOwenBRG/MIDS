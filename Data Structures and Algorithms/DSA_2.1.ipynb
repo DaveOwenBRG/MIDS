{
 "metadata": {
  "name": ""
 },
 "nbformat": 3,
 "nbformat_minor": 0,
 "worksheets": [
  {
   "cells": [
    {
     "cell_type": "code",
     "collapsed": false,
     "input": [
      "'''\n",
      "Write a scramble function that implements this algorithm. \n",
      "For example, the scramble(\"12\") should compute the scramble of \"1\", which is \"1\", \n",
      "interleaved with the scramble of \"2\", which is \"2\". The result is simply \"12\".\n",
      "\n",
      "The scramble of \u201c1234\u201d is the interleave of the scramble of \u201c12\u201d, which is \u201c12\u201d, \n",
      "and the scramble of \u201c34\u201d, which is similarly \u201c34\u201d. The result is \u201c1324\u201d.\n",
      "\n",
      "The scramble of \u201c12345678\u201d can be similarly computed as \u201c15372648\".\n",
      "\n",
      "For each of the following messages, add spaces to the end until its length is a power of 2. \n",
      "Then compute the scramble of the message.\n",
      "\n",
      "Message #1: \n",
      "'''\n",
      "msg1 = \"Madam I'm Adam.\""
     ],
     "language": "python",
     "metadata": {},
     "outputs": [],
     "prompt_number": 1
    },
    {
     "cell_type": "code",
     "collapsed": false,
     "input": [
      "'''\n",
      "Message #2:\n",
      "We demand rigidly defined areas of doubt and uncertainty!\n",
      "'''\n",
      "msg2 = \"We demand rigidly defined areas of doubt and uncertainty!\"\n",
      "print len(msg2)"
     ],
     "language": "python",
     "metadata": {},
     "outputs": [
      {
       "output_type": "stream",
       "stream": "stdout",
       "text": [
        "57\n"
       ]
      }
     ],
     "prompt_number": 115
    },
    {
     "cell_type": "code",
     "collapsed": false,
     "input": [
      "'''Message #3:\n",
      "The illusion of self-awareness. Happy automatons, running on trivial programs. I'll bet you never guess. From the inside, how can you?\n",
      "'''\n",
      "msg3 = \"The illusion of self-awareness. Happy automatons, running on trivial programs. I'll bet you never guess. From the inside, how can you?\"\n",
      "print len(msg3)"
     ],
     "language": "python",
     "metadata": {},
     "outputs": [
      {
       "output_type": "stream",
       "stream": "stdout",
       "text": [
        "134\n"
       ]
      }
     ],
     "prompt_number": 117
    },
    {
     "cell_type": "code",
     "collapsed": false,
     "input": [
      "def next_pwr_of_2(n):\n",
      "    # returns the next power of 2 >= n.\n",
      "\treturn 2**(n-1).bit_length()"
     ],
     "language": "python",
     "metadata": {},
     "outputs": [],
     "prompt_number": 110
    },
    {
     "cell_type": "code",
     "collapsed": false,
     "input": [
      "nxt2 = next_pwr_of_2(len(msg3))\n",
      "msg3 += \" \"*(nxt2-len(msg3))"
     ],
     "language": "python",
     "metadata": {},
     "outputs": [],
     "prompt_number": 121
    },
    {
     "cell_type": "code",
     "collapsed": false,
     "input": [
      "len(msg3)"
     ],
     "language": "python",
     "metadata": {},
     "outputs": [
      {
       "metadata": {},
       "output_type": "pyout",
       "prompt_number": 122,
       "text": [
        "256"
       ]
      }
     ],
     "prompt_number": 122
    },
    {
     "cell_type": "code",
     "collapsed": false,
     "input": [
      "def interleave(text1, text2):\n",
      "    s = ''\n",
      "    text1 = str(text1)\n",
      "    text2 = str(text2)\n",
      "    if len(text1) < len(text2):\n",
      "        text1 += \" \"*(len(text2)-len(text1))\n",
      "    if len(text1) > len(text2):\n",
      "        text2 += \" \"*(len(text1)-len(text2))\n",
      "    for i in range(len(text1)):\n",
      "        s += str(text1[i]) + str(text2[i])\n",
      "    return s"
     ],
     "language": "python",
     "metadata": {},
     "outputs": [],
     "prompt_number": 49
    },
    {
     "cell_type": "code",
     "collapsed": false,
     "input": [
      "def chunk(text_):\n",
      "    a = text_[0:len(message)/4]\n",
      "    b = text_[len(message)/4:len(message)/2]\n",
      "    c = text_[len(message)/2:len(message)*3/4]\n",
      "    d = text_[len(message)*3/4:]\n",
      "    return a,b,c,d\n",
      "print chunk(\"12345678\")"
     ],
     "language": "python",
     "metadata": {},
     "outputs": [
      {
       "output_type": "stream",
       "stream": "stdout",
       "text": [
        "('12', '34', '56', '78')\n"
       ]
      }
     ],
     "prompt_number": 75
    },
    {
     "cell_type": "code",
     "collapsed": false,
     "input": [
      "test = \"Madam I'm Adam. \"\n",
      "test1 = chunk(test)\n",
      "a = interleave(test1[0],test1[1])\n",
      "b = interleave(test1[2],test1[3])\n",
      "c = interleave(a,b)\n",
      "print len(test)\n",
      "print test1\n",
      "print a\n",
      "print b\n",
      "print c"
     ],
     "language": "python",
     "metadata": {},
     "outputs": [
      {
       "output_type": "stream",
       "stream": "stdout",
       "text": [
        "16\n",
        "('Ma', 'da', 'm ', \"I'm Adam. \")\n",
        "Mdaa\n",
        "mI ' m   A d a m .  \n",
        "MmdIa a'   m       A   d   a   m   .    \n"
       ]
      }
     ],
     "prompt_number": 98
    },
    {
     "cell_type": "code",
     "collapsed": false,
     "input": [
      "def scramble(message):\n",
      "    if len(message)==1:\n",
      "        return message\n",
      "    else:\n",
      "        a = message[:len(message)/2]\n",
      "        b = message[len(message)/2:]\n",
      "    return interleave(scramble(a), scramble(b))"
     ],
     "language": "python",
     "metadata": {},
     "outputs": [],
     "prompt_number": 100
    },
    {
     "cell_type": "code",
     "collapsed": false,
     "input": [
      "scramble(msg1)"
     ],
     "language": "python",
     "metadata": {},
     "outputs": [
      {
       "metadata": {},
       "output_type": "pyout",
       "prompt_number": 106,
       "text": [
        "\"MmmadAI.a  mad' \""
       ]
      }
     ],
     "prompt_number": 106
    },
    {
     "cell_type": "code",
     "collapsed": false,
     "input": [
      "scramble(msg2)"
     ],
     "language": "python",
     "metadata": {},
     "outputs": [
      {
       "metadata": {},
       "output_type": "pyout",
       "prompt_number": 120,
       "text": [
        "'Woyed d!eofig e   dtrna abntdns ef r a  muiniua ddeaidr nteylc  '"
       ]
      }
     ],
     "prompt_number": 120
    },
    {
     "cell_type": "code",
     "collapsed": false,
     "input": [
      "scramble(msg3)"
     ],
     "language": "python",
     "metadata": {},
     "outputs": [
      {
       "metadata": {},
       "output_type": "pyout",
       "prompt_number": 123,
       "text": [
        "\"Tnv H r s ' , e s g t   r y g , iu  y e - b n s   s t m s n   w eya p g l l r i o a m r n u o h l r a s w t i d f   n t . v r c h i a   e l     i r o F e o     l?p   s a e n i o . o   s e t    ol p u f   u n n m a o e   n o u o u . a   n e   I s h   e i a \""
       ]
      }
     ],
     "prompt_number": 123
    },
    {
     "cell_type": "code",
     "collapsed": false,
     "input": [],
     "language": "python",
     "metadata": {},
     "outputs": []
    }
   ],
   "metadata": {}
  }
 ]
}