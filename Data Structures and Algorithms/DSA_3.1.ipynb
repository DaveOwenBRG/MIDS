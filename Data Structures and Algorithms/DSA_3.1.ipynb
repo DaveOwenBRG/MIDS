{
 "metadata": {
  "name": ""
 },
 "nbformat": 3,
 "nbformat_minor": 0,
 "worksheets": [
  {
   "cells": [
    {
     "cell_type": "raw",
     "metadata": {},
     "source": [
      "In a particular board game, there are N spaces in a row, \n",
      "numbered 0 through N - 1 from left to right. \n",
      "There are also N marbles, numbered 0 through N - 1, \n",
      "initially placed in their corresponding spaces. \n",
      "The single player begins by shuffling the marbles into a \n",
      "random order. After that, there are two moves available:\n",
      "\n",
      "Switch: Switch the marbles in positions 0 and 1\n",
      "\n",
      "Rotate: Move the marble in position 0 to position N - 1, \n",
      "and move all other marbles one space to the left (one index lower).\n",
      "The objective is to arrange the marbles in order, with \n",
      "each marble i in position i.\n",
      "\n",
      "a. Write a class, MarblesBoard, to represent the game above. \n",
      "The class should be initialized with a particular sequence of \n",
      "Marbles in positions. Next, include switch() and rotate() \n",
      "methods to simulate the player's moves. Write a method, is_solved(), \n",
      "that returns True if the marbles are in the correct order.\n",
      "\n",
      "Additionally, you may want to write __str__ and __repr__ methods that \n",
      "display the current state of the board. Your class should behave like \n",
      "the following example.\n",
      "\n",
      ">>> board = MarblesBoard((3,6,7,4,1,0,8,2,5)) \n",
      ">>> board\n",
      "3 6 7 4 1 0 8 2 5 \n",
      ">>> board.switch() \n",
      ">>> board \n",
      "6 3 7 4 1 0 8 2 5 \n",
      ">>> board.rotate() \n",
      ">>> board \n",
      "3 7 4 1 0 8 2 5 6 \n",
      ">>> board.switch() \n",
      ">>> board \n",
      "7 3 4 1 0 8 2 5 6"
     ]
    },
    {
     "cell_type": "code",
     "collapsed": false,
     "input": [
      "a = (3,6,7,4,1,0,8,2,5)"
     ],
     "language": "python",
     "metadata": {},
     "outputs": [],
     "prompt_number": 37
    },
    {
     "cell_type": "code",
     "collapsed": false,
     "input": [
      "#switch\n",
      "a = list(a)\n",
      "a[0], a[1] = a[1], a[0]\n",
      "a = tuple(a)\n",
      "a"
     ],
     "language": "python",
     "metadata": {},
     "outputs": [
      {
       "metadata": {},
       "output_type": "pyout",
       "prompt_number": 38,
       "text": [
        "(6, 3, 7, 4, 1, 0, 8, 2, 5)"
       ]
      }
     ],
     "prompt_number": 38
    },
    {
     "cell_type": "code",
     "collapsed": false,
     "input": [
      "#rotate\n",
      "a = list(a)\n",
      "a = a[-1:] + a[:-1]\n",
      "a = tuple(a)\n",
      "a"
     ],
     "language": "python",
     "metadata": {},
     "outputs": [
      {
       "metadata": {},
       "output_type": "pyout",
       "prompt_number": 39,
       "text": [
        "(5, 6, 3, 7, 4, 1, 0, 8, 2)"
       ]
      }
     ],
     "prompt_number": 39
    },
    {
     "cell_type": "code",
     "collapsed": false,
     "input": [
      "class MarblesBoard(object):\n",
      "    def __init__(self, tup):\n",
      "        # enter stuff here\n",
      "        self.tup = tup\n",
      "    def switch(self):\n",
      "        #Switch the marbles in positions 0 and 1\n",
      "        tup = list(tup)\n",
      "        tup[0], tup[1] = tup[1], tup[0]\n",
      "        tup = tuple(tup)\n",
      "    def rotate(self):\n",
      "        tup = list(tup)\n",
      "        tup = tup[-1:] + tup[:-1]\n",
      "        tup = tuple(tup)\n",
      "board = MarblesBoard((3,6,7,4,1,0,8,2,5))"
     ],
     "language": "python",
     "metadata": {},
     "outputs": [],
     "prompt_number": 40
    },
    {
     "cell_type": "raw",
     "metadata": {},
     "source": [
      "Your class should behave like \n",
      "the following example.\n",
      "\n",
      ">>> board = MarblesBoard((3,6,7,4,1,0,8,2,5)) \n",
      ">>> board\n",
      "3 6 7 4 1 0 8 2 5 \n",
      ">>> board.switch() \n",
      ">>> board \n",
      "6 3 7 4 1 0 8 2 5 \n",
      ">>> board.rotate() \n",
      ">>> board \n",
      "3 7 4 1 0 8 2 5 6 \n",
      ">>> board.switch() \n",
      ">>> board \n",
      "7 3 4 1 0 8 2 5 6"
     ]
    },
    {
     "cell_type": "code",
     "collapsed": false,
     "input": [
      "board.switch()"
     ],
     "language": "python",
     "metadata": {},
     "outputs": [
      {
       "ename": "UnboundLocalError",
       "evalue": "local variable 'tup' referenced before assignment",
       "output_type": "pyerr",
       "traceback": [
        "\u001b[0;31m---------------------------------------------------------------------------\u001b[0m\n\u001b[0;31mUnboundLocalError\u001b[0m                         Traceback (most recent call last)",
        "\u001b[0;32m<ipython-input-41-75dd36a3b714>\u001b[0m in \u001b[0;36m<module>\u001b[0;34m()\u001b[0m\n\u001b[0;32m----> 1\u001b[0;31m \u001b[0mboard\u001b[0m\u001b[0;34m.\u001b[0m\u001b[0mswitch\u001b[0m\u001b[0;34m(\u001b[0m\u001b[0;34m)\u001b[0m\u001b[0;34m\u001b[0m\u001b[0m\n\u001b[0m",
        "\u001b[0;32m<ipython-input-40-903f2389dcc1>\u001b[0m in \u001b[0;36mswitch\u001b[0;34m(self)\u001b[0m\n\u001b[1;32m      5\u001b[0m     \u001b[0;32mdef\u001b[0m \u001b[0mswitch\u001b[0m\u001b[0;34m(\u001b[0m\u001b[0mself\u001b[0m\u001b[0;34m)\u001b[0m\u001b[0;34m:\u001b[0m\u001b[0;34m\u001b[0m\u001b[0m\n\u001b[1;32m      6\u001b[0m         \u001b[0;31m#Switch the marbles in positions 0 and 1\u001b[0m\u001b[0;34m\u001b[0m\u001b[0;34m\u001b[0m\u001b[0m\n\u001b[0;32m----> 7\u001b[0;31m         \u001b[0mtup\u001b[0m \u001b[0;34m=\u001b[0m \u001b[0mlist\u001b[0m\u001b[0;34m(\u001b[0m\u001b[0mtup\u001b[0m\u001b[0;34m)\u001b[0m\u001b[0;34m\u001b[0m\u001b[0m\n\u001b[0m\u001b[1;32m      8\u001b[0m         \u001b[0mtup\u001b[0m\u001b[0;34m[\u001b[0m\u001b[0;36m0\u001b[0m\u001b[0;34m]\u001b[0m\u001b[0;34m,\u001b[0m \u001b[0mtup\u001b[0m\u001b[0;34m[\u001b[0m\u001b[0;36m1\u001b[0m\u001b[0;34m]\u001b[0m \u001b[0;34m=\u001b[0m \u001b[0mtup\u001b[0m\u001b[0;34m[\u001b[0m\u001b[0;36m1\u001b[0m\u001b[0;34m]\u001b[0m\u001b[0;34m,\u001b[0m \u001b[0mtup\u001b[0m\u001b[0;34m[\u001b[0m\u001b[0;36m0\u001b[0m\u001b[0;34m]\u001b[0m\u001b[0;34m\u001b[0m\u001b[0m\n\u001b[1;32m      9\u001b[0m         \u001b[0mtup\u001b[0m \u001b[0;34m=\u001b[0m \u001b[0mtuple\u001b[0m\u001b[0;34m(\u001b[0m\u001b[0mtup\u001b[0m\u001b[0;34m)\u001b[0m\u001b[0;34m\u001b[0m\u001b[0m\n",
        "\u001b[0;31mUnboundLocalError\u001b[0m: local variable 'tup' referenced before assignment"
       ]
      }
     ],
     "prompt_number": 41
    },
    {
     "cell_type": "code",
     "collapsed": false,
     "input": [],
     "language": "python",
     "metadata": {},
     "outputs": []
    }
   ],
   "metadata": {}
  }
 ]
}