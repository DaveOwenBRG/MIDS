{
 "metadata": {
  "name": ""
 },
 "nbformat": 3,
 "nbformat_minor": 0,
 "worksheets": [
  {
   "cells": [
    {
     "cell_type": "raw",
     "metadata": {},
     "source": [
      "Many simple games are so well understood that players can play \n",
      "perfectly, always choosing the best move. At that point, the outcome \n",
      "often becomes predetermined. The most familiar example may be tic-tac-toe. \n",
      "In this game, either player can force the game into a draw, no matter \n",
      "what moves the other player makes. In other games, such as connect 4 and \n",
      "chopsticks, one of the players actually has a way to win, no matter \n",
      "what the opponent does.\n",
      "\n",
      "Mathematically, we define a winning strategy as a plan a player can \n",
      "use that always ends in a win. To write a winning strategy for one of \n",
      "these games, we can\u2019t just fixed list a sequence of moves. The moves \n",
      "have to change depending on what the opponent plays. So a winning strategy \n",
      "specifies a next move for every possible state of the tic-tac-toe board. \n",
      "You can think of it as a function from the state of the game to a next move.\n",
      "\n",
      "Perhaps the easiest way to think about winning strategies is recursively. \n",
      "Let\u2019s call a state of the game hot\u009d if the current player to move has a winning \n",
      "strategy to finish the game - this is the state that you want to be in. \n",
      "Otherwise, let\u2019s call it cold. Clearly, if a player can win in one move, the \n",
      "state of the game is hot. If the current player loses immediately for any available \n",
      "move, the state of the game is cold.\n",
      "\n",
      "If the game is not about to end, the best strategy is to play not to lose. \n",
      "That is, the state of the game is hot if the current player has a move that \n",
      "puts the game in a cold state for the next player. Otherwise the state \n",
      "of the game is cold - whatever move the current player makes, the state of \n",
      "the game will be hot for the next player.\n",
      "\n",
      "For this problem, let\u2019s consider a two-player version of the decreasing \n",
      "number game. The game begins with a number N - this is the state of the game. \n",
      "Two players take turns decreasing the number. Each player has two moves available: \n",
      "they can subtract 1 from the number, or divide it in half \n",
      "(not integer division - use floats for this!). \n",
      "The player that decreases the number below 1 is the loser.\n",
      "\n",
      "Write a script to prompt the user for the starting state of the game, N, \n",
      "and compute whether that state is hot or cold.\n",
      "\n",
      "Hint: Write a recursive function, is_hot, to check whether a state of the \n",
      "game is hot. For a base case, note that any game state less than 2 is cold \n",
      "- no matter which move a player makes, the number will drop below 1 and the \n",
      "player loses.\n",
      "\n",
      "Optional extra: Write a program that actually plays the decreasing number \n",
      "game against the user, and follows a winning strategy whenever one is available. \n",
      "In other words, when it is the computer\u2019s turn to move, it selects \n",
      "a move that places the game in a cold state, if such a move is available.\n",
      "\n",
      "When you are done, test to see if the following game states are hot or cold:"
     ]
    },
    {
     "cell_type": "code",
     "collapsed": false,
     "input": [
      "def is_hot(num):\n",
      "    if num < 2:\n",
      "        return \"cold\"\n",
      "    if (num/2 or (num - 1)) < 2:\n",
      "        return \"hot\"\n",
      "    else:\n",
      "        return is_hot(num-1)        "
     ],
     "language": "python",
     "metadata": {},
     "outputs": [],
     "prompt_number": 14
    },
    {
     "cell_type": "code",
     "collapsed": false,
     "input": [
      "is_hot(3)"
     ],
     "language": "python",
     "metadata": {},
     "outputs": [
      {
       "metadata": {},
       "output_type": "pyout",
       "prompt_number": 15,
       "text": [
        "'hot'"
       ]
      }
     ],
     "prompt_number": 15
    },
    {
     "cell_type": "code",
     "collapsed": false,
     "input": [
      "is_hot(6)"
     ],
     "language": "python",
     "metadata": {},
     "outputs": [
      {
       "metadata": {},
       "output_type": "pyout",
       "prompt_number": 16,
       "text": [
        "'hot'"
       ]
      }
     ],
     "prompt_number": 16
    },
    {
     "cell_type": "code",
     "collapsed": false,
     "input": [
      "is_hot(10)"
     ],
     "language": "python",
     "metadata": {},
     "outputs": [
      {
       "metadata": {},
       "output_type": "pyout",
       "prompt_number": 17,
       "text": [
        "'hot'"
       ]
      }
     ],
     "prompt_number": 17
    },
    {
     "cell_type": "code",
     "collapsed": false,
     "input": [
      "is_hot(35)"
     ],
     "language": "python",
     "metadata": {},
     "outputs": [
      {
       "metadata": {},
       "output_type": "pyout",
       "prompt_number": 18,
       "text": [
        "'hot'"
       ]
      }
     ],
     "prompt_number": 18
    },
    {
     "cell_type": "code",
     "collapsed": false,
     "input": [
      "is_hot(50)"
     ],
     "language": "python",
     "metadata": {},
     "outputs": [
      {
       "metadata": {},
       "output_type": "pyout",
       "prompt_number": 19,
       "text": [
        "'hot'"
       ]
      }
     ],
     "prompt_number": 19
    },
    {
     "cell_type": "code",
     "collapsed": false,
     "input": [
      "is_hot(99)"
     ],
     "language": "python",
     "metadata": {},
     "outputs": [
      {
       "metadata": {},
       "output_type": "pyout",
       "prompt_number": 20,
       "text": [
        "'hot'"
       ]
      }
     ],
     "prompt_number": 20
    },
    {
     "cell_type": "code",
     "collapsed": false,
     "input": [
      "is_hot(125)"
     ],
     "language": "python",
     "metadata": {},
     "outputs": [
      {
       "metadata": {},
       "output_type": "pyout",
       "prompt_number": 21,
       "text": [
        "'hot'"
       ]
      }
     ],
     "prompt_number": 21
    },
    {
     "cell_type": "code",
     "collapsed": false,
     "input": [],
     "language": "python",
     "metadata": {},
     "outputs": []
    }
   ],
   "metadata": {}
  }
 ]
}