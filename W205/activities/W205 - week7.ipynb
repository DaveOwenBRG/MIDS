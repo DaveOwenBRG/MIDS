{
 "metadata": {
  "name": ""
 },
 "nbformat": 3,
 "nbformat_minor": 0,
 "worksheets": [
  {
   "cells": [
    {
     "cell_type": "code",
     "collapsed": false,
     "input": [
      "import csv"
     ],
     "language": "python",
     "metadata": {},
     "outputs": [],
     "prompt_number": 33
    },
    {
     "cell_type": "code",
     "collapsed": false,
     "input": [
      "records = csv.DictReader(open(\"legislators-historic.csv\"))"
     ],
     "language": "python",
     "metadata": {},
     "outputs": [],
     "prompt_number": 45
    },
    {
     "cell_type": "code",
     "collapsed": false,
     "input": [
      "sample = list(records)"
     ],
     "language": "python",
     "metadata": {},
     "outputs": [],
     "prompt_number": 46
    },
    {
     "cell_type": "code",
     "collapsed": false,
     "input": [
      "sample[2]"
     ],
     "language": "python",
     "metadata": {},
     "outputs": [
      {
       "metadata": {},
       "output_type": "pyout",
       "prompt_number": 47,
       "text": [
        "{'address': '',\n",
        " 'ballotpedia_id': '',\n",
        " 'bioguide_id': 'B001086',\n",
        " 'birthday': '1743-06-16',\n",
        " 'contact_form': '',\n",
        " 'cspan_id': '',\n",
        " 'district': '2',\n",
        " 'facebook': '',\n",
        " 'facebook_id': '',\n",
        " 'first_name': 'Aedanus',\n",
        " 'gender': '',\n",
        " 'govtrack_id': '402032',\n",
        " 'icpsr_id': '1260',\n",
        " 'last_name': 'Burke',\n",
        " 'lis_id': '',\n",
        " 'opensecrets_id': '',\n",
        " 'party': '',\n",
        " 'phone': '',\n",
        " 'rss_url': '',\n",
        " 'state': 'SC',\n",
        " 'thomas_id': '',\n",
        " 'twitter': '',\n",
        " 'type': 'rep',\n",
        " 'url': '',\n",
        " 'votesmart_id': '',\n",
        " 'washington_post_id': '',\n",
        " 'wikipedia_id': 'Aedanus Burke',\n",
        " 'youtube': '',\n",
        " 'youtube_id': ''}"
       ]
      }
     ],
     "prompt_number": 47
    },
    {
     "cell_type": "code",
     "collapsed": false,
     "input": [
      "import pymongo"
     ],
     "language": "python",
     "metadata": {},
     "outputs": [],
     "prompt_number": 48
    },
    {
     "cell_type": "code",
     "collapsed": false,
     "input": [
      "try:\n",
      "    conn=pymongo.MongoClient()\n",
      "    print \"Connected!\"\n",
      "except pymongo.errors.ConnectionFailure, e:\n",
      "    print \"Connection failed : %s\" % e\n",
      "conn"
     ],
     "language": "python",
     "metadata": {},
     "outputs": [
      {
       "output_type": "stream",
       "stream": "stdout",
       "text": [
        "Connected!\n"
       ]
      },
      {
       "metadata": {},
       "output_type": "pyout",
       "prompt_number": 49,
       "text": [
        "MongoClient('localhost', 27017)"
       ]
      }
     ],
     "prompt_number": 49
    },
    {
     "cell_type": "code",
     "collapsed": false,
     "input": [
      "conn = pymongo.MongoClient()\n",
      "db_name = 'cong_db'\n",
      "test_db = conn[db_name]"
     ],
     "language": "python",
     "metadata": {},
     "outputs": [],
     "prompt_number": 60
    },
    {
     "cell_type": "code",
     "collapsed": false,
     "input": [
      "collection = test_db.mem_db\n",
      "collection"
     ],
     "language": "python",
     "metadata": {},
     "outputs": [
      {
       "metadata": {},
       "output_type": "pyout",
       "prompt_number": 61,
       "text": [
        "Collection(Database(MongoClient('localhost', 27017), u'cong_db'), u'mem_db')"
       ]
      }
     ],
     "prompt_number": 61
    },
    {
     "cell_type": "code",
     "collapsed": false,
     "input": [
      "for rec in records:\n",
      "    collection.insert(rec)"
     ],
     "language": "python",
     "metadata": {},
     "outputs": [],
     "prompt_number": 62
    },
    {
     "cell_type": "code",
     "collapsed": false,
     "input": [
      "collection.count()"
     ],
     "language": "python",
     "metadata": {},
     "outputs": [
      {
       "metadata": {},
       "output_type": "pyout",
       "prompt_number": 63,
       "text": [
        "11807"
       ]
      }
     ],
     "prompt_number": 63
    },
    {
     "cell_type": "code",
     "collapsed": false,
     "input": [
      "list(records)"
     ],
     "language": "python",
     "metadata": {},
     "outputs": [
      {
       "metadata": {},
       "output_type": "pyout",
       "prompt_number": 54,
       "text": [
        "[]"
       ]
      }
     ],
     "prompt_number": 54
    },
    {
     "cell_type": "code",
     "collapsed": false,
     "input": [
      "'''7-find the name and date of birth of members you found in 6\n",
      "8-find the youngest democrat member\n",
      "9-find all the members whose names are either john or Joshua\n",
      "10-find the most frequent name among the members'''"
     ],
     "language": "python",
     "metadata": {},
     "outputs": [
      {
       "metadata": {},
       "output_type": "pyout",
       "prompt_number": 64,
       "text": [
        "'7-find the name and date of birth of members you found in 6\\n8-find the youngest democrat member\\n9-find all the members whose names are either john or Joshua\\n10-find the most frequent name among the members'"
       ]
      }
     ],
     "prompt_number": 64
    },
    {
     "cell_type": "code",
     "collapsed": false,
     "input": [
      "collection.find({'gender': 'F'}, {'party': {'$ne' : 'Democrat'}})"
     ],
     "language": "python",
     "metadata": {},
     "outputs": [
      {
       "metadata": {},
       "output_type": "pyout",
       "prompt_number": 69,
       "text": [
        "<pymongo.cursor.Cursor at 0xb000d04c>"
       ]
      }
     ],
     "prompt_number": 69
    },
    {
     "cell_type": "code",
     "collapsed": false,
     "input": [
      "%pylab"
     ],
     "language": "python",
     "metadata": {},
     "outputs": [
      {
       "output_type": "stream",
       "stream": "stdout",
       "text": [
        "Using matplotlib backend: TkAgg\n",
        "Populating the interactive namespace from numpy and matplotlib\n"
       ]
      },
      {
       "output_type": "stream",
       "stream": "stderr",
       "text": [
        "WARNING: pylab import has clobbered these variables: ['sample']\n",
        "`%pylab --no-import-all` prevents importing * from pylab and numpy\n"
       ]
      }
     ],
     "prompt_number": 68
    },
    {
     "cell_type": "code",
     "collapsed": false,
     "input": [],
     "language": "python",
     "metadata": {},
     "outputs": []
    }
   ],
   "metadata": {}
  }
 ]
}