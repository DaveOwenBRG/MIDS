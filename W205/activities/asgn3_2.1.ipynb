{
 "metadata": {
  "name": ""
 },
 "nbformat": 3,
 "nbformat_minor": 0,
 "worksheets": [
  {
   "cells": [
    {
     "cell_type": "code",
     "collapsed": false,
     "input": [
      "'''\n",
      "Retrieving and Analyzing Task 2.1\n",
      "Step 1: Find the top 30 retweets from assignment 2\n",
      "Step 2: Find the associated usernames of the top 30 retweets\n",
      "Step 3: Find the location of the users who retweeted\n",
      "'''\n",
      "import pymongo\n",
      "\n",
      "# Connection to Mongo DB\n",
      "try:\n",
      "\tconn=pymongo.MongoClient()\n",
      "\tprint \"Connected successfully!!!\"\n",
      "except pymongo.errors.ConnectionFailure, e:\n",
      "\tprint \"Could not connect to MongoDB: %s\" %e\n",
      "\n",
      "db = conn.db_tweetsTest\n",
      "collection = db.tweets"
     ],
     "language": "python",
     "metadata": {},
     "outputs": [
      {
       "output_type": "stream",
       "stream": "stdout",
       "text": [
        "Connected successfully!!!\n"
       ]
      }
     ],
     "prompt_number": 55
    },
    {
     "cell_type": "code",
     "collapsed": false,
     "input": [
      "# Step 1: Find the top 30 retweets\n",
      "# I use mongodb's aggregate method to reduce the collection\n",
      "# retweets start with 'RT', so use regex to match\n",
      "# then group by the retweet to add how many there are\n",
      "# then return the retweet and count sorted descending order and limit to 30\n",
      "# lastly output to a new collection\n",
      "collection.aggregate([{'$match': {'text':{'$regex':'^RT '}}},\n",
      "\t\t\t\t\t\t{'$group': {'_id': {'text': '$text'},'RTs':{'$sum':1}}},\n",
      "\t\t\t\t\t\t{'$project': {'_id':0, 'RT': '$_id.text', 'Total': '$RTs'}},\n",
      "\t\t\t\t\t\t{'$sort': {'Total':-1}},\n",
      "\t\t\t\t\t\t{'$limit':30},\n",
      "\t\t\t\t\t\t{'$out': 'top_30_RT'}])"
     ],
     "language": "python",
     "metadata": {},
     "outputs": [
      {
       "metadata": {},
       "output_type": "pyout",
       "prompt_number": 12,
       "text": [
        "{u'ok': 1.0, u'result': []}"
       ]
      }
     ],
     "prompt_number": 12
    },
    {
     "cell_type": "code",
     "collapsed": false,
     "input": [
      "the_RTs = db.top_30_RT.find({'RT':{'$regex': '@'}},{'_id':0,'RT':1})"
     ],
     "language": "python",
     "metadata": {},
     "outputs": [],
     "prompt_number": 56
    },
    {
     "cell_type": "code",
     "collapsed": false,
     "input": [
      "the_RTs"
     ],
     "language": "python",
     "metadata": {},
     "outputs": [
      {
       "metadata": {},
       "output_type": "pyout",
       "prompt_number": 57,
       "text": [
        "<pymongo.cursor.Cursor at 0xb3aee90c>"
       ]
      }
     ],
     "prompt_number": 57
    },
    {
     "cell_type": "code",
     "collapsed": false,
     "input": [
      "RTs = []\n",
      "for i in the_RTs:\n",
      "    RTs += i.values()"
     ],
     "language": "python",
     "metadata": {},
     "outputs": [],
     "prompt_number": 58
    },
    {
     "cell_type": "code",
     "collapsed": false,
     "input": [
      "RTs"
     ],
     "language": "python",
     "metadata": {},
     "outputs": [
      {
       "metadata": {},
       "output_type": "pyout",
       "prompt_number": 59,
       "text": [
        "[u'RT @thefader: You can play #Minecraft against @Migos online tonight. http://t.co/YmuDtt4Qf1 http://t.co/QOoOo3rsAa',\n",
        " u\"RT @wdventito: Tour inside 3 of #Minecraft's largest virtual communities. #MCCentral #Freedonia @SuegoFaults http://t.co/APPsA9W5ny http://\\u2026\",\n",
        " u'RT @lootcrate: Mom RULES. RT @NerdApproved: Mom Surprises Son With #Minecraft Bedroom Makeover #Gaming http://t.co/kcLOqGhlsu http://t.co/0\\u2026',\n",
        " u'RT @starwars: The #StarWarsRebels #Minecraft skin pack for @Xbox is now available, with 23 total characters! http://t.co/IKjOTw4tlp http://\\u2026',\n",
        " u'RT @thefader: Who played #Minecraft against @Migos tonight? http://t.co/YmuDttmr6z http://t.co/Xi1wOC4gVN',\n",
        " u\"RT @Xbox: Join Ghost's starfaring crew w/ the Star Wars Rebels Skin Pack for #Minecraft [E10+]: http://t.co/PCVMBx9HPB http://t.co/zUTNnM7V\\u2026\",\n",
        " u'RT @MindShiftKQED: Beyond Minecraft: Games That Inspire Building and Exploration http://t.co/lUyzXTyzUr  #minecraft #gbl #games #edtech htt\\u2026',\n",
        " u'RT @NerdApproved: Mom Surprises Son With Minecraft Bedroom Makeover #Minecraft #Gaming http://t.co/rHDSN06LlH http://t.co/dorUN3QX9b',\n",
        " u'RT @CuteasaFoxBlog: #Minecraft fan in your life? These are the perfect Valentines for them! 3 to pick from: http://t.co/QajwFBACds http://t\\u2026',\n",
        " u'RT @satansaccount: \"@thefader: You can play #Minecraft against @Migos online tonight. http://t.co/LP6fRIOTET http://t.co/Z4TLRvFXPP\" THIS I\\u2026',\n",
        " u'RT @GIBiz: How did Telltale end up making a #Minecraft game? We ask the new boss... http://t.co/WqHWOQeNuE http://t.co/2b79zO6p6k',\n",
        " u'RT @xboxuk: #Minecraft: Into the Nether is FREE this weekend, exclusively on #XboxVideo! Click: http://t.co/zJVe0pLayi http://t.co/D7FcILTE\\u2026',\n",
        " u'RT @slopfunkdust: CHAT ROOM IS LIT! LOL \\U0001f602 RT @thefader: You can play #Minecraft against @Migos online tonight. http://t.co/K5Houenw5P http:\\u2026',\n",
        " u'RT @xboxuk: Available now on Xbox. Join the resistance with the #StarWars Rebels Skin Pack for #Minecraft: http://t.co/7Yz0hbvyWo http://t.\\u2026',\n",
        " u'RT @TobyTurner: Welcome back to MINECRAFT, Audience! Check out WORLDBUSCUS! https://t.co/DohjREsCmu #Worldbuscus #TobyGames #Minecraft @Min\\u2026',\n",
        " u'RT @TobyTurner: WORLDBUSCUS MINECRAFT SERVER BETA! https://t.co/WLyxzceeZy #Tobuscus #Worldbuscus #Minecraft',\n",
        " u'RT @TobyTurner: FACTIONS in #Worldbuscus \\nhttps://t.co/5byrR6Fcjo #Tobuscus #TobyGames #Minecraft',\n",
        " u\"RT @TobyTurner: It's about time that I MINE THE DIAMOND https://t.co/wY22ltC3z5 #tobuscus #tobygames #minecraft #worldbuscus @Worldbuscus\",\n",
        " u'RT @Bajan_Canadian: MISSILE WARS 4 Mini-Game with The Pack! #Minecraft http://t.co/QX10Tnzwg9',\n",
        " u'RT @tgnTV: Sometimes I wish I could be this creative. #Minecraft http://t.co/ivv0wcHLsa',\n",
        " u'RT @TobyTurner: HOW DO I FACTION? https://t.co/9Wr7iwpO98 #Tobuscus #TobyGames #Minecraft #Worldbuscus',\n",
        " u'RT @2DOPEposts: .@Migos are playing #Minecraft in a few minutes, &amp; i\\u2019m totally here for all of this. http://t.co/hB60H4aCmX',\n",
        " u\"RT @hat_films: Hat Corp! The last episode ever, we're getting nuked, but it's not over yet... #Minecraft http://t.co/wmvhb5XZYj\",\n",
        " u'RT @Jazwares: Have you seen this amazing #Minecraft soda display at a store near you? http://t.co/5zmhV5ed1S',\n",
        " u\"RT @MangyFoxMC: Here's all the renders for this: http://t.co/Ux4ZbaD91s #minecraft http://t.co/hIk7QmUoFG\",\n",
        " u'RT @Sarawrawrawr: A bit of a @OtaKing77077 inspired #SamusAran #mecha @Sketch_Dailies #drawing #art  #Minecraft #nintendo #datassthough htt\\u2026',\n",
        " u'RT @xxBlackOrchidxx: My perler bead creations of @itsalesa @SkyDoesMinecraf #Minecraft http://t.co/CAk0ZDR6FY',\n",
        " u'RT @hugosanjii: Wippin bricks\\n\\n\\u201c@thefader: You can play #Minecraft against @Migos online tonight. http://t.co/PU6eeDTQOp http://t.co/sULEVB\\u2026',\n",
        " u'RT @JessicaChobot: Nothing is more terrifying than taking shelter in a dark house only to open the door and find 5 villagers whining nasall\\u2026',\n",
        " u'RT @CaseyHinds: What the soda industry considers \"not marketing to kids.\"  #Minecraft soda display: http://t.co/rHvMLMVBfz #FEDUP']"
       ]
      }
     ],
     "prompt_number": 59
    },
    {
     "cell_type": "code",
     "collapsed": false,
     "input": [
      "start = '@'\n",
      "end = ':'\n",
      "\n",
      "# I loop through the list of retweets and only return the RT usernames\n",
      "usernames = []\n",
      "for tweet in RTs:\n",
      "    user = str(tweet[tweet.find(start)+1:tweet.find(end)])\n",
      "    usernames.append(str(user))"
     ],
     "language": "python",
     "metadata": {},
     "outputs": [],
     "prompt_number": 22
    },
    {
     "cell_type": "code",
     "collapsed": false,
     "input": [
      "retweeted_usernames = list(set(usernames))"
     ],
     "language": "python",
     "metadata": {},
     "outputs": [],
     "prompt_number": 23
    },
    {
     "cell_type": "code",
     "collapsed": false,
     "input": [
      "retweeted_usernames"
     ],
     "language": "python",
     "metadata": {},
     "outputs": [
      {
       "metadata": {},
       "output_type": "pyout",
       "prompt_number": 24,
       "text": [
        "['starwars',\n",
        " 'satansaccount',\n",
        " 'Jazwares',\n",
        " 'MindShiftKQED',\n",
        " 'NerdApproved',\n",
        " 'hugosanjii',\n",
        " 'slopfunkdust',\n",
        " 'Bajan_Canadian',\n",
        " 'xboxuk',\n",
        " 'CaseyHinds',\n",
        " 'TobyTurner',\n",
        " 'Sarawrawrawr',\n",
        " 'hat_films',\n",
        " 'tgnTV',\n",
        " 'Xbox',\n",
        " 'xxBlackOrchidxx',\n",
        " 'JessicaChobot',\n",
        " '2DOPEposts',\n",
        " 'MangyFoxMC',\n",
        " 'wdventito',\n",
        " 'lootcrate',\n",
        " 'thefader',\n",
        " 'CuteasaFoxBlog',\n",
        " 'GIBiz']"
       ]
      }
     ],
     "prompt_number": 24
    },
    {
     "cell_type": "code",
     "collapsed": false,
     "input": [
      "locations = db.tweets.find({'user.screen_name': {'$in': retweeted_usernames}}, {'_id':0, 'user.screen_name':1, 'user.location':1})"
     ],
     "language": "python",
     "metadata": {},
     "outputs": [],
     "prompt_number": 72
    },
    {
     "cell_type": "code",
     "collapsed": false,
     "input": [
      "t1"
     ],
     "language": "python",
     "metadata": {},
     "outputs": [
      {
       "metadata": {},
       "output_type": "pyout",
       "prompt_number": 73,
       "text": [
        "<pymongo.cursor.Cursor at 0xb3af916c>"
       ]
      }
     ],
     "prompt_number": 73
    },
    {
     "cell_type": "code",
     "collapsed": false,
     "input": [
      "empty = []"
     ],
     "language": "python",
     "metadata": {},
     "outputs": [],
     "prompt_number": 74
    },
    {
     "cell_type": "code",
     "collapsed": false,
     "input": [
      "for t in t1:\n",
      "    empty += t.values()"
     ],
     "language": "python",
     "metadata": {},
     "outputs": [],
     "prompt_number": 75
    },
    {
     "cell_type": "code",
     "collapsed": false,
     "input": [
      "len(empty)"
     ],
     "language": "python",
     "metadata": {},
     "outputs": [
      {
       "metadata": {},
       "output_type": "pyout",
       "prompt_number": 76,
       "text": [
        "50"
       ]
      }
     ],
     "prompt_number": 76
    },
    {
     "cell_type": "code",
     "collapsed": false,
     "input": [
      "len(retweeted_usernames)"
     ],
     "language": "python",
     "metadata": {},
     "outputs": [
      {
       "metadata": {},
       "output_type": "pyout",
       "prompt_number": 71,
       "text": [
        "24"
       ]
      }
     ],
     "prompt_number": 71
    },
    {
     "cell_type": "code",
     "collapsed": false,
     "input": [
      "list(set(empty))"
     ],
     "language": "python",
     "metadata": {},
     "outputs": [
      {
       "ename": "TypeError",
       "evalue": "unhashable type: 'dict'",
       "output_type": "pyerr",
       "traceback": [
        "\u001b[0;31m---------------------------------------------------------------------------\u001b[0m\n\u001b[0;31mTypeError\u001b[0m                                 Traceback (most recent call last)",
        "\u001b[0;32m<ipython-input-77-9bc76687e992>\u001b[0m in \u001b[0;36m<module>\u001b[0;34m()\u001b[0m\n\u001b[0;32m----> 1\u001b[0;31m \u001b[0mlist\u001b[0m\u001b[0;34m(\u001b[0m\u001b[0mset\u001b[0m\u001b[0;34m(\u001b[0m\u001b[0mempty\u001b[0m\u001b[0;34m)\u001b[0m\u001b[0;34m)\u001b[0m\u001b[0;34m\u001b[0m\u001b[0m\n\u001b[0m",
        "\u001b[0;31mTypeError\u001b[0m: unhashable type: 'dict'"
       ]
      }
     ],
     "prompt_number": 77
    },
    {
     "cell_type": "code",
     "collapsed": false,
     "input": [
      "empty"
     ],
     "language": "python",
     "metadata": {},
     "outputs": [
      {
       "metadata": {},
       "output_type": "pyout",
       "prompt_number": 78,
       "text": [
        "[{u'location': u'Worldwide', u'screen_name': u'Jazwares'},\n",
        " {u'location': u'Global', u'screen_name': u'tgnTV'},\n",
        " {u'location': u'', u'screen_name': u'wdventito'},\n",
        " {u'location': u'ohio', u'screen_name': u'xxBlackOrchidxx'},\n",
        " {u'location': u'ohio', u'screen_name': u'xxBlackOrchidxx'},\n",
        " {u'location': u'ohio', u'screen_name': u'xxBlackOrchidxx'},\n",
        " {u'location': u'ohio', u'screen_name': u'xxBlackOrchidxx'},\n",
        " {u'location': u'Bristol, UK', u'screen_name': u'hat_films'},\n",
        " {u'location': u'', u'screen_name': u'CaseyHinds'},\n",
        " {u'location': u'Worldwide', u'screen_name': u'Jazwares'},\n",
        " {u'location': u'Global', u'screen_name': u'tgnTV'},\n",
        " {u'location': u'San Francisco', u'screen_name': u'MindShiftKQED'},\n",
        " {u'location': u'Bristol, UK', u'screen_name': u'hat_films'},\n",
        " {u'location': u'Los Angeles, CA', u'screen_name': u'TobyTurner'},\n",
        " {u'location': u'UK', u'screen_name': u'xboxuk'},\n",
        " {u'location': u'Central Coast, Australia', u'screen_name': u'Sarawrawrawr'},\n",
        " {u'location': u'Paradise Island', u'screen_name': u'JessicaChobot'},\n",
        " {u'location': u'Global', u'screen_name': u'tgnTV'},\n",
        " {u'location': u'Los Angeles, CA', u'screen_name': u'TobyTurner'},\n",
        " {u'location': u'ohio', u'screen_name': u'xxBlackOrchidxx'},\n",
        " {u'location': u'BlockWorks | Deep Academy', u'screen_name': u'MangyFoxMC'},\n",
        " {u'location': u'Bristol, UK', u'screen_name': u'hat_films'},\n",
        " {u'location': u'Bristol, UK', u'screen_name': u'hat_films'},\n",
        " {u'location': u'Los Angeles, CA', u'screen_name': u'TobyTurner'},\n",
        " {u'location': u'PHX | LND', u'screen_name': u'slopfunkdust'},\n",
        " {u'location': u'Miramar, FL', u'screen_name': u'satansaccount'},\n",
        " {u'location': u'Miramar, FL', u'screen_name': u'satansaccount'},\n",
        " {u'location': u'', u'screen_name': u'2DOPEposts'},\n",
        " {u'location': u'', u'screen_name': u'hugosanjii'},\n",
        " {u'location': u'global', u'screen_name': u'thefader'},\n",
        " {u'location': u'Global', u'screen_name': u'tgnTV'},\n",
        " {u'location': u'Los Angeles, CA', u'screen_name': u'TobyTurner'},\n",
        " {u'location': u'Worldwide', u'screen_name': u'Jazwares'},\n",
        " {u'location': u'Phoenix', u'screen_name': u'CuteasaFoxBlog'},\n",
        " {u'location': u'BlockWorks | Deep Academy', u'screen_name': u'MangyFoxMC'},\n",
        " {u'location': u'', u'screen_name': u'Xbox'},\n",
        " {u'location': u'', u'screen_name': u'starwars'},\n",
        " {u'location': u'www.gamesindustry.biz', u'screen_name': u'GIBiz'},\n",
        " {u'location': u'Los Angeles, CA', u'screen_name': u'TobyTurner'},\n",
        " {u'location': u'Worldwide', u'screen_name': u'Jazwares'},\n",
        " {u'location': u'Central Coast, Australia', u'screen_name': u'Sarawrawrawr'},\n",
        " {u'location': u'Paradise Island', u'screen_name': u'JessicaChobot'},\n",
        " {u'location': u'global', u'screen_name': u'thefader'},\n",
        " {u'location': u'Barbados & Canada (US)', u'screen_name': u'Bajan_Canadian'},\n",
        " {u'location': u'BlockWorks | Deep Academy', u'screen_name': u'MangyFoxMC'},\n",
        " {u'location': u'Global', u'screen_name': u'tgnTV'},\n",
        " {u'location': u'Worldwide', u'screen_name': u'Jazwares'},\n",
        " {u'location': u'UK', u'screen_name': u'xboxuk'},\n",
        " {u'location': u'Paradise Island', u'screen_name': u'JessicaChobot'},\n",
        " {u'location': u'Paradise Island', u'screen_name': u'JessicaChobot'}]"
       ]
      }
     ],
     "prompt_number": 78
    },
    {
     "cell_type": "code",
     "collapsed": false,
     "input": [
      "#create collection of users\n",
      "db.tweets.aggregate([{'$match': {'user.screen_name':{'$exists':'true'}}},\n",
      "\t\t\t\t\t\t{'$group': {'_id': {'user': '$user.screen_name'},'tweets':{'$sum':1}}},\n",
      "\t\t\t\t\t\t{'$project': {'_id':0, 'user': '$_id.user', 'Tweets': '$tweets'}},\n",
      "\t\t\t\t\t\t{'$sort': {'Tweets':-1}},\n",
      "\t\t\t\t\t\t{'$out': 'users'}])"
     ],
     "language": "python",
     "metadata": {},
     "outputs": [
      {
       "metadata": {},
       "output_type": "pyout",
       "prompt_number": 79,
       "text": [
        "{u'ok': 1.0, u'result': []}"
       ]
      }
     ],
     "prompt_number": 79
    },
    {
     "cell_type": "code",
     "collapsed": false,
     "input": [
      "db.users.count()"
     ],
     "language": "python",
     "metadata": {},
     "outputs": [
      {
       "metadata": {},
       "output_type": "pyout",
       "prompt_number": 80,
       "text": [
        "8772"
       ]
      }
     ],
     "prompt_number": 80
    },
    {
     "cell_type": "code",
     "collapsed": false,
     "input": [
      "followers_db = conn.db_followers\n",
      "followers = followers_db.followers"
     ],
     "language": "python",
     "metadata": {},
     "outputs": [],
     "prompt_number": 158
    },
    {
     "cell_type": "code",
     "collapsed": false,
     "input": [
      "top_10_users = db.tweets.find({},{'_id':0,'user.screen_name':1,'user.followers_count':1}).sort('user.followers_count', pymongo.DESCENDING)[0:10]"
     ],
     "language": "python",
     "metadata": {},
     "outputs": [],
     "prompt_number": 96
    },
    {
     "cell_type": "code",
     "collapsed": false,
     "input": [
      "top_10_users"
     ],
     "language": "python",
     "metadata": {},
     "outputs": [
      {
       "metadata": {},
       "output_type": "pyout",
       "prompt_number": 97,
       "text": [
        "<pymongo.cursor.Cursor at 0xb3a5f88c>"
       ]
      }
     ],
     "prompt_number": 97
    },
    {
     "cell_type": "code",
     "collapsed": false,
     "input": [
      "for user in top_10_users:\n",
      "    print user"
     ],
     "language": "python",
     "metadata": {},
     "outputs": [
      {
       "output_type": "stream",
       "stream": "stdout",
       "text": [
        "{u'user': {u'followers_count': 4687889, u'screen_name': u'Xbox'}}\n",
        "{u'user': {u'followers_count': 1246334, u'screen_name': u'FragDolls'}}\n",
        "{u'user': {u'followers_count': 1228864, u'screen_name': u'TobyTurner'}}\n",
        "{u'user': {u'followers_count': 1228864, u'screen_name': u'TobyTurner'}}\n",
        "{u'user': {u'followers_count': 1228858, u'screen_name': u'TobyTurner'}}\n",
        "{u'user': {u'followers_count': 1228858, u'screen_name': u'TobyTurner'}}\n",
        "{u'user': {u'followers_count': 1228857, u'screen_name': u'TobyTurner'}}\n",
        "{u'user': {u'followers_count': 1105474, u'screen_name': u'starwars'}}\n",
        "{u'user': {u'followers_count': 663627, u'screen_name': u'Bajan_Canadian'}}\n",
        "{u'user': {u'followers_count': 501717, u'screen_name': u'AlArabiya_Eng'}}\n"
       ]
      }
     ],
     "prompt_number": 98
    },
    {
     "cell_type": "code",
     "collapsed": false,
     "input": [
      "top_10_query = []\n",
      "top_10_pair = []\n",
      "top_10_users = []\n",
      "for doc in db.tweets.find({},{'_id':0,'user.screen_name':1,'user.followers_count':1}).sort('user.followers_count', pymongo.DESCENDING)[0:10]:\n",
      "    top_10_query += doc.values()\n",
      "for pair in top_10_query:\n",
      "    top_10_pair += pair.values()\n",
      "top_10_users = top_10_pair[1::2]\n",
      "top_10_pair\n",
      "top_10_users"
     ],
     "language": "python",
     "metadata": {},
     "outputs": [
      {
       "metadata": {},
       "output_type": "pyout",
       "prompt_number": 104,
       "text": [
        "[u'Xbox',\n",
        " u'FragDolls',\n",
        " u'TobyTurner',\n",
        " u'TobyTurner',\n",
        " u'TobyTurner',\n",
        " u'TobyTurner',\n",
        " u'TobyTurner',\n",
        " u'starwars',\n",
        " u'Bajan_Canadian',\n",
        " u'AlArabiya_Eng']"
       ]
      }
     ],
     "prompt_number": 104
    },
    {
     "cell_type": "code",
     "collapsed": false,
     "input": [
      "import tweepy\n",
      "consumer_key = \"g7WaeKhJUdXERWi7TBG2ET1hc\";\n",
      "consumer_secret = \"cfNMs6S91KcIJuuQkWmAMem8ogY99F1ZbZr83fMCkJupxNstdh\";\n",
      "access_token = \"63479910-PPtHT52R6zjhaQFiGYJPSfYwOCnDUyxn9LGI7ffEI\";\n",
      "access_token_secret = \"FkUmm1mhuIvoKMfEtlPG1bYqIBCQ3k4Cephf1cJCWta6K\";\n",
      "\n",
      "auth = tweepy.OAuthHandler(consumer_key, consumer_secret)\n",
      "auth.set_access_token(access_token, access_token_secret)\n",
      "api = tweepy.API(auth_handler=auth,wait_on_rate_limit=True,wait_on_rate_limit_notify=True)"
     ],
     "language": "python",
     "metadata": {},
     "outputs": [],
     "prompt_number": 109
    },
    {
     "cell_type": "code",
     "collapsed": false,
     "input": [
      "for users in top_10_users:\n",
      "\tfor user in tweepy.Cursor(api.followers, screen_name=users.encode('utf8')).items(1):\n",
      "\t\tprint user.screen_name"
     ],
     "language": "python",
     "metadata": {},
     "outputs": [
      {
       "output_type": "stream",
       "stream": "stdout",
       "text": [
        "AnangAd1\n",
        "sandro_martinz\n",
        "khan_jayjay\n",
        "muggelsohn1\n",
        "naifbinkhalid84\n",
        "AnthonyAyalaSil\n",
        "TeknoReview2015\n",
        "Callum_v2000\n",
        "abdelra48318185\n",
        "noahunit11\n",
        "Disturbed_Doll"
       ]
      },
      {
       "output_type": "stream",
       "stream": "stdout",
       "text": [
        "\n",
        "SpawNcsgo\n",
        "melijoy\n",
        "OneArrowLeft\n",
        "HCGamerLife\n",
        "caleb_rodreguez\n",
        "ProggyBoog\n",
        "bestgamesdeal\n",
        "GRGbeersnleafs\n",
        "Lenycris\n",
        "emmasiggers"
       ]
      },
      {
       "output_type": "stream",
       "stream": "stdout",
       "text": [
        "\n",
        "smile_clarinet\n",
        "GamerStreet300\n",
        "SamTilson\n",
        "mrs_clifford_kk\n",
        "xJMSy\n",
        "CraigHayward5\n",
        "Jennife34726421\n",
        "PasaSado\n",
        "tomicpero360\n",
        "emmasiggers"
       ]
      },
      {
       "output_type": "stream",
       "stream": "stdout",
       "text": [
        "\n",
        "smile_clarinet\n",
        "GamerStreet300\n",
        "SamTilson\n",
        "mrs_clifford_kk\n",
        "xJMSy\n",
        "CraigHayward5\n",
        "Jennife34726421\n",
        "PasaSado\n",
        "tomicpero360\n",
        "emmasiggers"
       ]
      },
      {
       "output_type": "stream",
       "stream": "stdout",
       "text": [
        "\n",
        "smile_clarinet\n",
        "GamerStreet300\n",
        "SamTilson\n",
        "mrs_clifford_kk\n",
        "xJMSy\n",
        "CraigHayward5\n",
        "Jennife34726421\n",
        "PasaSado\n",
        "tomicpero360\n",
        "emmasiggers"
       ]
      },
      {
       "output_type": "stream",
       "stream": "stdout",
       "text": [
        "\n",
        "smile_clarinet\n",
        "GamerStreet300\n",
        "SamTilson\n",
        "mrs_clifford_kk\n",
        "xJMSy\n",
        "CraigHayward5\n",
        "Jennife34726421\n",
        "PasaSado\n",
        "tomicpero360\n",
        "emmasiggers"
       ]
      },
      {
       "output_type": "stream",
       "stream": "stdout",
       "text": [
        "\n",
        "smile_clarinet\n",
        "GamerStreet300\n",
        "SamTilson\n",
        "mrs_clifford_kk\n",
        "xJMSy\n",
        "CraigHayward5\n",
        "Jennife34726421\n",
        "PasaSado\n",
        "tomicpero360\n",
        "advdsar"
       ]
      },
      {
       "output_type": "stream",
       "stream": "stdout",
       "text": [
        "\n",
        "AlprSynl\n",
        "MalloLdz\n",
        "848450720c984dd\n",
        "rs0131_mj\n",
        "twtwittar\n",
        "usnul54\n",
        "Mr_Incompetent\n",
        "MirrorMatterPre\n",
        "PaulJPerron\n",
        "razerater"
       ]
      },
      {
       "output_type": "stream",
       "stream": "stdout",
       "text": [
        "\n",
        "SidemenFangirl7\n",
        "CraftyEmerald\n",
        "tomislavpaleka\n",
        "ally89529753\n",
        "lallemento1\n",
        "nirajneela77\n",
        "FaganPrior\n",
        "RealJoelAkemba\n",
        "CarlNikko\n",
        "Macadinahhas"
       ]
      },
      {
       "output_type": "stream",
       "stream": "stdout",
       "text": [
        "\n",
        "oresgonvi\n",
        "skipulag\n",
        "MacaoChina\n",
        "Rawan_Renee\n",
        "MayaLee25741621\n",
        "HassanMahsen\n",
        "waqasminhas6\n",
        "mmmaldafiri\n",
        "mechergui16\n",
        "SouthernAth"
       ]
      },
      {
       "output_type": "stream",
       "stream": "stdout",
       "text": [
        "\n",
        "RedditHead\n",
        "LemurNetwork\n",
        "9xm4_\n",
        "kasun1995627\n",
        "tedi_bonbo\n",
        "WKolles\n",
        "fardatul_hasana\n",
        "dakouri35\n",
        "aasfour29\n",
        "daudakuchi"
       ]
      },
      {
       "output_type": "stream",
       "stream": "stdout",
       "text": [
        "\n",
        "4Azulopez\n",
        "NSonana\n",
        "bloody_sofss\n",
        "FCB_Hoy\n",
        "adriandayton\n",
        "kasun1995627\n",
        "carolbubulico25\n",
        "tedi_bonbo\n",
        "msk_pk\n",
        "drsophie"
       ]
      },
      {
       "output_type": "stream",
       "stream": "stdout",
       "text": [
        "\n",
        "JhonPan123\n",
        "kilicoglumhmtt\n",
        "gleison_freire\n",
        "omaraldole11\n",
        "Ian22898059\n",
        "usb_hub\n",
        "is\n",
        "fanalnhat\n",
        "Faisal78906491\n",
        "SouthernAth"
       ]
      },
      {
       "output_type": "stream",
       "stream": "stdout",
       "text": [
        "\n",
        "RedditHead\n",
        "LemurNetwork\n",
        "9xm4_\n",
        "kasun1995627\n",
        "tedi_bonbo\n",
        "WKolles\n",
        "fardatul_hasana\n",
        "dakouri35\n",
        "aasfour29\n",
        "kataswe4075"
       ]
      },
      {
       "output_type": "stream",
       "stream": "stdout",
       "text": [
        "\n",
        "VRybchuk\n",
        "FredManhice\n",
        "pedrocle67\n",
        "JulioBertao\n",
        "joaosilvia32\n",
        "barbara891011\n",
        "bi_santes\n",
        "mfasial306\n",
        "francodorazio\n",
        "Rate limit reached. Sleeping for:"
       ]
      },
      {
       "ename": "KeyboardInterrupt",
       "evalue": "",
       "output_type": "pyerr",
       "traceback": [
        "\u001b[0;31m---------------------------------------------------------------------------\u001b[0m\n\u001b[0;31mKeyboardInterrupt\u001b[0m                         Traceback (most recent call last)",
        "\u001b[0;32m<ipython-input-110-218082809e1a>\u001b[0m in \u001b[0;36m<module>\u001b[0;34m()\u001b[0m\n\u001b[1;32m      1\u001b[0m \u001b[0;32mfor\u001b[0m \u001b[0musers\u001b[0m \u001b[0;32min\u001b[0m \u001b[0mtop_10_users\u001b[0m\u001b[0;34m:\u001b[0m\u001b[0;34m\u001b[0m\u001b[0m\n\u001b[0;32m----> 2\u001b[0;31m         \u001b[0;32mfor\u001b[0m \u001b[0muser\u001b[0m \u001b[0;32min\u001b[0m \u001b[0mtweepy\u001b[0m\u001b[0;34m.\u001b[0m\u001b[0mCursor\u001b[0m\u001b[0;34m(\u001b[0m\u001b[0mapi\u001b[0m\u001b[0;34m.\u001b[0m\u001b[0mfollowers\u001b[0m\u001b[0;34m,\u001b[0m \u001b[0mscreen_name\u001b[0m\u001b[0;34m=\u001b[0m\u001b[0musers\u001b[0m\u001b[0;34m.\u001b[0m\u001b[0mencode\u001b[0m\u001b[0;34m(\u001b[0m\u001b[0;34m'utf8'\u001b[0m\u001b[0;34m)\u001b[0m\u001b[0;34m)\u001b[0m\u001b[0;34m.\u001b[0m\u001b[0mitems\u001b[0m\u001b[0;34m(\u001b[0m\u001b[0;36m10\u001b[0m\u001b[0;34m)\u001b[0m\u001b[0;34m:\u001b[0m\u001b[0;34m\u001b[0m\u001b[0m\n\u001b[0m\u001b[1;32m      3\u001b[0m                 \u001b[0;32mprint\u001b[0m \u001b[0muser\u001b[0m\u001b[0;34m.\u001b[0m\u001b[0mscreen_name\u001b[0m\u001b[0;34m\u001b[0m\u001b[0m\n",
        "\u001b[0;32m/usr/local/lib/python2.7/dist-packages/tweepy/cursor.pyc\u001b[0m in \u001b[0;36mnext\u001b[0;34m(self)\u001b[0m\n\u001b[1;32m    195\u001b[0m         \u001b[0;32mif\u001b[0m \u001b[0mself\u001b[0m\u001b[0;34m.\u001b[0m\u001b[0mcurrent_page\u001b[0m \u001b[0;32mis\u001b[0m \u001b[0mNone\u001b[0m \u001b[0;32mor\u001b[0m \u001b[0mself\u001b[0m\u001b[0;34m.\u001b[0m\u001b[0mpage_index\u001b[0m \u001b[0;34m==\u001b[0m \u001b[0mlen\u001b[0m\u001b[0;34m(\u001b[0m\u001b[0mself\u001b[0m\u001b[0;34m.\u001b[0m\u001b[0mcurrent_page\u001b[0m\u001b[0;34m)\u001b[0m \u001b[0;34m-\u001b[0m \u001b[0;36m1\u001b[0m\u001b[0;34m:\u001b[0m\u001b[0;34m\u001b[0m\u001b[0m\n\u001b[1;32m    196\u001b[0m             \u001b[0;31m# Reached end of current page, get the next page...\u001b[0m\u001b[0;34m\u001b[0m\u001b[0;34m\u001b[0m\u001b[0m\n\u001b[0;32m--> 197\u001b[0;31m             \u001b[0mself\u001b[0m\u001b[0;34m.\u001b[0m\u001b[0mcurrent_page\u001b[0m \u001b[0;34m=\u001b[0m \u001b[0mself\u001b[0m\u001b[0;34m.\u001b[0m\u001b[0mpage_iterator\u001b[0m\u001b[0;34m.\u001b[0m\u001b[0mnext\u001b[0m\u001b[0;34m(\u001b[0m\u001b[0;34m)\u001b[0m\u001b[0;34m\u001b[0m\u001b[0m\n\u001b[0m\u001b[1;32m    198\u001b[0m             \u001b[0mself\u001b[0m\u001b[0;34m.\u001b[0m\u001b[0mpage_index\u001b[0m \u001b[0;34m=\u001b[0m \u001b[0;34m-\u001b[0m\u001b[0;36m1\u001b[0m\u001b[0;34m\u001b[0m\u001b[0m\n\u001b[1;32m    199\u001b[0m         \u001b[0mself\u001b[0m\u001b[0;34m.\u001b[0m\u001b[0mpage_index\u001b[0m \u001b[0;34m+=\u001b[0m \u001b[0;36m1\u001b[0m\u001b[0;34m\u001b[0m\u001b[0m\n",
        "\u001b[0;32m/usr/local/lib/python2.7/dist-packages/tweepy/cursor.pyc\u001b[0m in \u001b[0;36mnext\u001b[0;34m(self)\u001b[0m\n\u001b[1;32m     73\u001b[0m         data, cursors = self.method(cursor=self.next_cursor,\n\u001b[1;32m     74\u001b[0m                                     \u001b[0;34m*\u001b[0m\u001b[0mself\u001b[0m\u001b[0;34m.\u001b[0m\u001b[0margs\u001b[0m\u001b[0;34m,\u001b[0m\u001b[0;34m\u001b[0m\u001b[0m\n\u001b[0;32m---> 75\u001b[0;31m                                     **self.kargs)\n\u001b[0m\u001b[1;32m     76\u001b[0m         \u001b[0mself\u001b[0m\u001b[0;34m.\u001b[0m\u001b[0mprev_cursor\u001b[0m\u001b[0;34m,\u001b[0m \u001b[0mself\u001b[0m\u001b[0;34m.\u001b[0m\u001b[0mnext_cursor\u001b[0m \u001b[0;34m=\u001b[0m \u001b[0mcursors\u001b[0m\u001b[0;34m\u001b[0m\u001b[0m\n\u001b[1;32m     77\u001b[0m         \u001b[0;32mif\u001b[0m \u001b[0mlen\u001b[0m\u001b[0;34m(\u001b[0m\u001b[0mdata\u001b[0m\u001b[0;34m)\u001b[0m \u001b[0;34m==\u001b[0m \u001b[0;36m0\u001b[0m\u001b[0;34m:\u001b[0m\u001b[0;34m\u001b[0m\u001b[0m\n",
        "\u001b[0;32m/usr/local/lib/python2.7/dist-packages/tweepy/binder.pyc\u001b[0m in \u001b[0;36m_call\u001b[0;34m(*args, **kwargs)\u001b[0m\n\u001b[1;32m    233\u001b[0m             \u001b[0;32mreturn\u001b[0m \u001b[0mmethod\u001b[0m\u001b[0;34m\u001b[0m\u001b[0m\n\u001b[1;32m    234\u001b[0m         \u001b[0;32melse\u001b[0m\u001b[0;34m:\u001b[0m\u001b[0;34m\u001b[0m\u001b[0m\n\u001b[0;32m--> 235\u001b[0;31m             \u001b[0;32mreturn\u001b[0m \u001b[0mmethod\u001b[0m\u001b[0;34m.\u001b[0m\u001b[0mexecute\u001b[0m\u001b[0;34m(\u001b[0m\u001b[0;34m)\u001b[0m\u001b[0;34m\u001b[0m\u001b[0m\n\u001b[0m\u001b[1;32m    236\u001b[0m \u001b[0;34m\u001b[0m\u001b[0m\n\u001b[1;32m    237\u001b[0m     \u001b[0;31m# Set pagination mode\u001b[0m\u001b[0;34m\u001b[0m\u001b[0;34m\u001b[0m\u001b[0m\n",
        "\u001b[0;32m/usr/local/lib/python2.7/dist-packages/tweepy/binder.pyc\u001b[0m in \u001b[0;36mexecute\u001b[0;34m(self)\u001b[0m\n\u001b[1;32m    155\u001b[0m                                     \u001b[0;32mif\u001b[0m \u001b[0mself\u001b[0m\u001b[0;34m.\u001b[0m\u001b[0mwait_on_rate_limit_notify\u001b[0m\u001b[0;34m:\u001b[0m\u001b[0;34m\u001b[0m\u001b[0m\n\u001b[1;32m    156\u001b[0m                                         \u001b[0;32mprint\u001b[0m\u001b[0;34m(\u001b[0m\u001b[0;34m\"Rate limit reached. Sleeping for:\"\u001b[0m\u001b[0;34m,\u001b[0m \u001b[0msleep_time\u001b[0m\u001b[0;34m)\u001b[0m\u001b[0;34m\u001b[0m\u001b[0m\n\u001b[0;32m--> 157\u001b[0;31m                                     \u001b[0mtime\u001b[0m\u001b[0;34m.\u001b[0m\u001b[0msleep\u001b[0m\u001b[0;34m(\u001b[0m\u001b[0msleep_time\u001b[0m \u001b[0;34m+\u001b[0m \u001b[0;36m5\u001b[0m\u001b[0;34m)\u001b[0m  \u001b[0;31m# sleep for few extra sec\u001b[0m\u001b[0;34m\u001b[0m\u001b[0m\n\u001b[0m\u001b[1;32m    158\u001b[0m \u001b[0;34m\u001b[0m\u001b[0m\n\u001b[1;32m    159\u001b[0m                 \u001b[0;31m# if self.wait_on_rate_limit and self._reset_time is not None and \\\u001b[0m\u001b[0;34m\u001b[0m\u001b[0;34m\u001b[0m\u001b[0m\n",
        "\u001b[0;31mKeyboardInterrupt\u001b[0m: "
       ]
      },
      {
       "output_type": "stream",
       "stream": "stdout",
       "text": [
        " 892\n"
       ]
      }
     ],
     "prompt_number": 110
    },
    {
     "cell_type": "code",
     "collapsed": false,
     "input": [
      "for u in range(len(top_10_users)):\n",
      "    for user in tweepy.Cursor(api.followers, screen_name=top_10_users[u].encode('utf8')).items():\n",
      "        data = {}\n",
      "        data[str(top_10_users[u])] = 'username'\n",
      "        data[str(user.screen_name)] = 'follower'\n",
      "        print data\n",
      "        followers.insert(data)"
     ],
     "language": "python",
     "metadata": {},
     "outputs": [
      {
       "ename": "MemoryError",
       "evalue": "",
       "output_type": "pyerr",
       "traceback": [
        "\u001b[0;31m---------------------------------------------------------------------------\u001b[0m\n\u001b[0;31mMemoryError\u001b[0m                               Traceback (most recent call last)",
        "\u001b[0;32m<ipython-input-163-bb3ba28efedc>\u001b[0m in \u001b[0;36m<module>\u001b[0;34m()\u001b[0m\n\u001b[0;32m----> 1\u001b[0;31m \u001b[0;32mfor\u001b[0m \u001b[0mu\u001b[0m \u001b[0;32min\u001b[0m \u001b[0mrange\u001b[0m\u001b[0;34m(\u001b[0m\u001b[0mlen\u001b[0m\u001b[0;34m(\u001b[0m\u001b[0mtop_10_users\u001b[0m\u001b[0;34m)\u001b[0m\u001b[0;34m)\u001b[0m\u001b[0;34m:\u001b[0m\u001b[0;34m\u001b[0m\u001b[0m\n\u001b[0m\u001b[1;32m      2\u001b[0m     \u001b[0;32mfor\u001b[0m \u001b[0muser\u001b[0m \u001b[0;32min\u001b[0m \u001b[0mtweepy\u001b[0m\u001b[0;34m.\u001b[0m\u001b[0mCursor\u001b[0m\u001b[0;34m(\u001b[0m\u001b[0mapi\u001b[0m\u001b[0;34m.\u001b[0m\u001b[0mfollowers\u001b[0m\u001b[0;34m,\u001b[0m \u001b[0mscreen_name\u001b[0m\u001b[0;34m=\u001b[0m\u001b[0mtop_10_users\u001b[0m\u001b[0;34m[\u001b[0m\u001b[0mu\u001b[0m\u001b[0;34m]\u001b[0m\u001b[0;34m.\u001b[0m\u001b[0mencode\u001b[0m\u001b[0;34m(\u001b[0m\u001b[0;34m'utf8'\u001b[0m\u001b[0;34m)\u001b[0m\u001b[0;34m)\u001b[0m\u001b[0;34m.\u001b[0m\u001b[0mitems\u001b[0m\u001b[0;34m(\u001b[0m\u001b[0;34m)\u001b[0m\u001b[0;34m:\u001b[0m\u001b[0;34m\u001b[0m\u001b[0m\n\u001b[1;32m      3\u001b[0m         \u001b[0mdata\u001b[0m \u001b[0;34m=\u001b[0m \u001b[0;34m{\u001b[0m\u001b[0;34m}\u001b[0m\u001b[0;34m\u001b[0m\u001b[0m\n\u001b[1;32m      4\u001b[0m         \u001b[0mdata\u001b[0m\u001b[0;34m[\u001b[0m\u001b[0mstr\u001b[0m\u001b[0;34m(\u001b[0m\u001b[0mtop_10_users\u001b[0m\u001b[0;34m[\u001b[0m\u001b[0mu\u001b[0m\u001b[0;34m]\u001b[0m\u001b[0;34m)\u001b[0m\u001b[0;34m]\u001b[0m \u001b[0;34m=\u001b[0m \u001b[0;34m'username'\u001b[0m\u001b[0;34m\u001b[0m\u001b[0m\n\u001b[1;32m      5\u001b[0m         \u001b[0mdata\u001b[0m\u001b[0;34m[\u001b[0m\u001b[0mstr\u001b[0m\u001b[0;34m(\u001b[0m\u001b[0muser\u001b[0m\u001b[0;34m.\u001b[0m\u001b[0mscreen_name\u001b[0m\u001b[0;34m)\u001b[0m\u001b[0;34m]\u001b[0m \u001b[0;34m=\u001b[0m \u001b[0;34m'follower'\u001b[0m\u001b[0;34m\u001b[0m\u001b[0m\n",
        "\u001b[0;31mMemoryError\u001b[0m: "
       ]
      }
     ],
     "prompt_number": 163
    },
    {
     "cell_type": "code",
     "collapsed": false,
     "input": [
      "tester={}"
     ],
     "language": "python",
     "metadata": {},
     "outputs": [],
     "prompt_number": 141
    },
    {
     "cell_type": "code",
     "collapsed": false,
     "input": [
      "a = dict(idx='c')"
     ],
     "language": "python",
     "metadata": {},
     "outputs": [],
     "prompt_number": 145
    },
    {
     "cell_type": "code",
     "collapsed": false,
     "input": [
      "a"
     ],
     "language": "python",
     "metadata": {},
     "outputs": [
      {
       "metadata": {},
       "output_type": "pyout",
       "prompt_number": 146,
       "text": [
        "{'idx': 'c'}"
       ]
      }
     ],
     "prompt_number": 146
    },
    {
     "cell_type": "code",
     "collapsed": false,
     "input": [
      "tester['b'] = a"
     ],
     "language": "python",
     "metadata": {},
     "outputs": [],
     "prompt_number": 147
    },
    {
     "cell_type": "code",
     "collapsed": false,
     "input": [
      "tester"
     ],
     "language": "python",
     "metadata": {},
     "outputs": [
      {
       "metadata": {},
       "output_type": "pyout",
       "prompt_number": 148,
       "text": [
        "{'b': {'idx': 'c'}}"
       ]
      }
     ],
     "prompt_number": 148
    },
    {
     "cell_type": "code",
     "collapsed": false,
     "input": [
      "print tester['b']"
     ],
     "language": "python",
     "metadata": {},
     "outputs": [
      {
       "output_type": "stream",
       "stream": "stdout",
       "text": [
        "{'idx': 'c'}\n"
       ]
      }
     ],
     "prompt_number": 154
    },
    {
     "cell_type": "code",
     "collapsed": false,
     "input": [
      "for user in tweepy.Cursor(api.followers, screen_name='Xbox'.encode('utf8')).items(20):\n",
      "    data = {}\n",
      "    data['user'] = 'Xbox'\n",
      "    data['follower'] = str(user.screen_name)\n",
      "    print data\n",
      "    followers.insert(data)"
     ],
     "language": "python",
     "metadata": {},
     "outputs": [
      {
       "output_type": "stream",
       "stream": "stdout",
       "text": [
        "{'follower': '_cris_tian_cx', 'user': 'Xbox'}\n",
        "{'follower': 'PedroLu83532172', 'user': 'Xbox'}\n",
        "{'follower': 'ShankjdDiane', 'user': 'Xbox'}\n",
        "{'follower': 'CreatorStep', 'user': 'Xbox'}\n",
        "{'follower': 'skarfath7862', 'user': 'Xbox'}\n",
        "{'follower': 'kennethcastro47', 'user': 'Xbox'}\n",
        "{'follower': 'Br_Xablau954', 'user': 'Xbox'}\n",
        "{'follower': 'roma1970', 'user': 'Xbox'}\n",
        "{'follower': 'blaze88885', 'user': 'Xbox'}\n",
        "{'follower': 'KriTonOffical', 'user': 'Xbox'}\n",
        "{'follower': 'edithceil_hue', 'user': 'Xbox'}\n",
        "{'follower': 'm_jojobeans1297', 'user': 'Xbox'}\n",
        "{'follower': 'scarrera81', 'user': 'Xbox'}\n",
        "{'follower': 'yangneil8', 'user': 'Xbox'}\n",
        "{'follower': 'saritadomgears3', 'user': 'Xbox'}\n",
        "{'follower': 'ory_luna', 'user': 'Xbox'}\n",
        "{'follower': 'evanvonessen_', 'user': 'Xbox'}\n",
        "{'follower': 'Pooptickler12', 'user': 'Xbox'}\n",
        "{'follower': 'AjFlacko', 'user': 'Xbox'}\n",
        "{'follower': 'ThatGirlGamerr_', 'user': 'Xbox'}\n"
       ]
      }
     ],
     "prompt_number": 200
    },
    {
     "cell_type": "code",
     "collapsed": false,
     "input": [
      "unfollowed = conn.db_followers.unfollowed"
     ],
     "language": "python",
     "metadata": {},
     "outputs": [],
     "prompt_number": 201
    },
    {
     "cell_type": "code",
     "collapsed": false,
     "input": [
      "f1 = conn.db_followers.followers"
     ],
     "language": "python",
     "metadata": {},
     "outputs": [],
     "prompt_number": 247
    },
    {
     "cell_type": "code",
     "collapsed": false,
     "input": [
      "f2 = conn.db_followers.followers2"
     ],
     "language": "python",
     "metadata": {},
     "outputs": [],
     "prompt_number": 248
    },
    {
     "cell_type": "code",
     "collapsed": false,
     "input": [
      "f1.count()"
     ],
     "language": "python",
     "metadata": {},
     "outputs": [
      {
       "metadata": {},
       "output_type": "pyout",
       "prompt_number": 249,
       "text": [
        "20"
       ]
      }
     ],
     "prompt_number": 249
    },
    {
     "cell_type": "code",
     "collapsed": false,
     "input": [
      "follow1 = []\n",
      "for doc in f1.find({},{'_id':0,'follower':1}):\n",
      "    follow1 += doc.values()"
     ],
     "language": "python",
     "metadata": {},
     "outputs": [],
     "prompt_number": 250
    },
    {
     "cell_type": "code",
     "collapsed": false,
     "input": [
      "follow2 = []\n",
      "for doc in f2.find({},{'_id':0,'follower':1}):\n",
      "    follow2 += doc.values()"
     ],
     "language": "python",
     "metadata": {},
     "outputs": [],
     "prompt_number": 251
    },
    {
     "cell_type": "code",
     "collapsed": false,
     "input": [
      "follow1"
     ],
     "language": "python",
     "metadata": {},
     "outputs": [
      {
       "metadata": {},
       "output_type": "pyout",
       "prompt_number": 253,
       "text": [
        "[u'_cris_tian_cx',\n",
        " u'PedroLu83532172',\n",
        " u'ShankjdDiane',\n",
        " u'CreatorStep',\n",
        " u'skarfath7862',\n",
        " u'kennethcastro47',\n",
        " u'Br_Xablau954',\n",
        " u'roma1970',\n",
        " u'blaze88885',\n",
        " u'KriTonOffical',\n",
        " u'edithceil_hue',\n",
        " u'm_jojobeans1297',\n",
        " u'scarrera81',\n",
        " u'yangneil8',\n",
        " u'saritadomgears3',\n",
        " u'ory_luna',\n",
        " u'evanvonessen_',\n",
        " u'Pooptickler12',\n",
        " u'AjFlacko',\n",
        " u'ThatGirlGamerr_']"
       ]
      }
     ],
     "prompt_number": 253
    },
    {
     "cell_type": "code",
     "collapsed": false,
     "input": [
      "unfollowed = []\n",
      "for person in follow1:\n",
      "\tif person not in follow2:\n",
      "\t\tunfollowed.append(str(person))"
     ],
     "language": "python",
     "metadata": {},
     "outputs": [],
     "prompt_number": 266
    },
    {
     "cell_type": "code",
     "collapsed": false,
     "input": [
      "unfollowed"
     ],
     "language": "python",
     "metadata": {},
     "outputs": [
      {
       "metadata": {},
       "output_type": "pyout",
       "prompt_number": 267,
       "text": [
        "['_cris_tian_cx',\n",
        " 'PedroLu83532172',\n",
        " 'ShankjdDiane',\n",
        " 'CreatorStep',\n",
        " 'skarfath7862',\n",
        " 'kennethcastro47',\n",
        " 'Br_Xablau954',\n",
        " 'roma1970',\n",
        " 'AjFlacko',\n",
        " 'ThatGirlGamerr_']"
       ]
      }
     ],
     "prompt_number": 267
    },
    {
     "cell_type": "code",
     "collapsed": false,
     "input": [
      "unfollowers = conn.db_followers.unfollowed\n",
      "for person in unfollowed:\n",
      "\tdata = {}\n",
      "\tdata['unfollower'] = str(person)\n",
      "\tunfollowers.insert(data)"
     ],
     "language": "python",
     "metadata": {},
     "outputs": [],
     "prompt_number": 268
    },
    {
     "cell_type": "code",
     "collapsed": false,
     "input": [
      "unfollowers.count()"
     ],
     "language": "python",
     "metadata": {},
     "outputs": [
      {
       "metadata": {},
       "output_type": "pyout",
       "prompt_number": 269,
       "text": [
        "10"
       ]
      }
     ],
     "prompt_number": 269
    },
    {
     "cell_type": "code",
     "collapsed": false,
     "input": [],
     "language": "python",
     "metadata": {},
     "outputs": []
    }
   ],
   "metadata": {}
  }
 ]
}