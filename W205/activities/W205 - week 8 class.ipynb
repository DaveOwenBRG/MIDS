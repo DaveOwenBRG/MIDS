{
 "metadata": {
  "name": ""
 },
 "nbformat": 3,
 "nbformat_minor": 0,
 "worksheets": [
  {
   "cells": [
    {
     "cell_type": "code",
     "collapsed": false,
     "input": [
      "import nltk"
     ],
     "language": "python",
     "metadata": {},
     "outputs": [],
     "prompt_number": 2
    },
    {
     "cell_type": "code",
     "collapsed": false,
     "input": [
      "%pylab\n",
      "import numpy as np"
     ],
     "language": "python",
     "metadata": {},
     "outputs": [
      {
       "output_type": "stream",
       "stream": "stdout",
       "text": [
        "Using matplotlib backend: TkAgg\n",
        "Populating the interactive namespace from numpy and matplotlib\n"
       ]
      }
     ],
     "prompt_number": 26
    },
    {
     "cell_type": "code",
     "collapsed": false,
     "input": [
      "from nltk.corpus import inaugural"
     ],
     "language": "python",
     "metadata": {},
     "outputs": [],
     "prompt_number": 3
    },
    {
     "cell_type": "code",
     "collapsed": false,
     "input": [
      "a = inaugural.raw('1789-Washington.txt')\n",
      "b = inaugural.raw('1797-Adams.txt')\n",
      "c = inaugural.raw('1801-Jefferson.txt')"
     ],
     "language": "python",
     "metadata": {},
     "outputs": [],
     "prompt_number": 5
    },
    {
     "cell_type": "code",
     "collapsed": false,
     "input": [
      "aa = inaugural.words('1789-Washington.txt')\n",
      "bb = inaugural.words('1797-Adams.txt')\n",
      "cc = inaugural.words('1801-Jefferson.txt')"
     ],
     "language": "python",
     "metadata": {},
     "outputs": [],
     "prompt_number": 69
    },
    {
     "cell_type": "code",
     "collapsed": false,
     "input": [
      "a = a.split()\n",
      "b = b.split()\n",
      "c = c.split()"
     ],
     "language": "python",
     "metadata": {},
     "outputs": [],
     "prompt_number": 38
    },
    {
     "cell_type": "code",
     "collapsed": false,
     "input": [
      "aa"
     ],
     "language": "python",
     "metadata": {},
     "outputs": [
      {
       "metadata": {},
       "output_type": "pyout",
       "prompt_number": 70,
       "text": [
        "[u'Fellow', u'-', u'Citizens', u'of', u'the', ...]"
       ]
      }
     ],
     "prompt_number": 70
    },
    {
     "cell_type": "code",
     "collapsed": false,
     "input": [
      "corp = a + b + c\n",
      "print corp"
     ],
     "language": "python",
     "metadata": {},
     "outputs": [
      {
       "output_type": "stream",
       "stream": "stdout",
       "text": [
        "[u'Fellow-Citizens', u'of', u'the', u'Senate', u'and', u'of', u'the', u'House', u'of', u'Representatives:', u'Among', u'the', u'vicissitudes', u'incident', u'to', u'life', u'no', u'event', u'could', u'have', u'filled', u'me', u'with', u'greater', u'anxieties', u'than', u'that', u'of', u'which', u'the', u'notification', u'was', u'transmitted', u'by', u'your', u'order,', u'and', u'received', u'on', u'the', u'14th', u'day', u'of', u'the', u'present', u'month.', u'On', u'the', u'one', u'hand,', u'I', u'was', u'summoned', u'by', u'my', u'Country,', u'whose', u'voice', u'I', u'can', u'never', u'hear', u'but', u'with', u'veneration', u'and', u'love,', u'from', u'a', u'retreat', u'which', u'I', u'had', u'chosen', u'with', u'the', u'fondest', u'predilection,', u'and,', u'in', u'my', u'flattering', u'hopes,', u'with', u'an', u'immutable', u'decision,', u'as', u'the', u'asylum', u'of', u'my', u'declining', u'years', u'--', u'a', u'retreat', u'which', u'was', u'rendered', u'every', u'day', u'more', u'necessary', u'as', u'well', u'as', u'more', u'dear', u'to', u'me', u'by', u'the', u'addition', u'of', u'habit', u'to', u'inclination,', u'and', u'of', u'frequent', u'interruptions', u'in', u'my', u'health', u'to', u'the', u'gradual', u'waste', u'committed', u'on', u'it', u'by', u'time.', u'On', u'the', u'other', u'hand,', u'the', u'magnitude', u'and', u'difficulty', u'of', u'the', u'trust', u'to', u'which', u'the', u'voice', u'of', u'my', u'country', u'called', u'me,', u'being', u'sufficient', u'to', u'awaken', u'in', u'the', u'wisest', u'and', u'most', u'experienced', u'of', u'her', u'citizens', u'a', u'distrustful', u'scrutiny', u'into', u'his', u'qualifications,', u'could', u'not', u'but', u'overwhelm', u'with', u'despondence', u'one', u'who', u'(inheriting', u'inferior', u'endowments', u'from', u'nature', u'and', u'unpracticed', u'in', u'the', u'duties', u'of', u'civil', u'administration)', u'ought', u'to', u'be', u'peculiarly', u'conscious', u'of', u'his', u'own', u'deficiencies.', u'In', u'this', u'conflict', u'of', u'emotions', u'all', u'I', u'dare', u'aver', u'is', u'that', u'it', u'has', u'been', u'my', u'faithful', u'study', u'to', u'collect', u'my', u'duty', u'from', u'a', u'just', u'appreciation', u'of', u'every', u'circumstance', u'by', u'which', u'it', u'might', u'be', u'affected.', u'All', u'I', u'dare', u'hope', u'is', u'that', u'if,', u'in', u'executing', u'this', u'task,', u'I', u'have', u'been', u'too', u'much', u'swayed', u'by', u'a', u'grateful', u'remembrance', u'of', u'former', u'instances,', u'or', u'by', u'an', u'affectionate', u'sensibility', u'to', u'this', u'transcendent', u'proof', u'of', u'the', u'confidence', u'of', u'my', u'fellow', u'citizens,', u'and', u'have', u'thence', u'too', u'little', u'consulted', u'my', u'incapacity', u'as', u'well', u'as', u'disinclination', u'for', u'the', u'weighty', u'and', u'untried', u'cares', u'before', u'me,', u'my', u'error', u'will', u'be', u'palliated', u'by', u'the', u'motives', u'which', u'mislead', u'me,', u'and', u'its', u'consequences', u'be', u'judged', u'by', u'my', u'country', u'with', u'some', u'share', u'of', u'the', u'partiality', u'in', u'which', u'they', u'originated.', u'Such', u'being', u'the', u'impressions', u'under', u'which', u'I', u'have,', u'in', u'obedience', u'to', u'the', u'public', u'summons,', u'repaired', u'to', u'the', u'present', u'station,', u'it', u'would', u'be', u'peculiarly', u'improper', u'to', u'omit', u'in', u'this', u'first', u'official', u'act', u'my', u'fervent', u'supplications', u'to', u'that', u'Almighty', u'Being', u'who', u'rules', u'over', u'the', u'universe,', u'who', u'presides', u'in', u'the', u'councils', u'of', u'nations,', u'and', u'whose', u'providential', u'aids', u'can', u'supply', u'every', u'human', u'defect,', u'that', u'His', u'benediction', u'may', u'consecrate', u'to', u'the', u'liberties', u'and', u'happiness', u'of', u'the', u'people', u'of', u'the', u'United', u'States', u'a', u'Government', u'instituted', u'by', u'themselves', u'for', u'these', u'essential', u'purposes,', u'and', u'may', u'enable', u'every', u'instrument', u'employed', u'in', u'its', u'administration', u'to', u'execute', u'with', u'success', u'the', u'functions', u'allotted', u'to', u'his', u'charge.', u'In', u'tendering', u'this', u'homage', u'to', u'the', u'Great', u'Author', u'of', u'every', u'public', u'and', u'private', u'good,', u'I', u'assure', u'myself', u'that', u'it', u'expresses', u'your', u'sentiments', u'not', u'less', u'than', u'my', u'own,', u'nor', u'those', u'of', u'my', u'fellow', u'citizens', u'at', u'large', u'less', u'than', u'either.', u'No', u'people', u'can', u'be', u'bound', u'to', u'acknowledge', u'and', u'adore', u'the', u'Invisible', u'Hand', u'which', u'conducts', u'the', u'affairs', u'of', u'men', u'more', u'than', u'those', u'of', u'the', u'United', u'States.', u'Every', u'step', u'by', u'which', u'they', u'have', u'advanced', u'to', u'the', u'character', u'of', u'an', u'independent', u'nation', u'seems', u'to', u'have', u'been', u'distinguished', u'by', u'some', u'token', u'of', u'providential', u'agency;', u'and', u'in', u'the', u'important', u'revolution', u'just', u'accomplished', u'in', u'the', u'system', u'of', u'their', u'united', u'government', u'the', u'tranquil', u'deliberations', u'and', u'voluntary', u'consent', u'of', u'so', u'many', u'distinct', u'communities', u'from', u'which', u'the', u'event', u'has', u'resulted', u'can', u'not', u'be', u'compared', u'with', u'the', u'means', u'by', u'which', u'most', u'governments', u'have', u'been', u'established', u'without', u'some', u'return', u'of', u'pious', u'gratitude,', u'along', u'with', u'an', u'humble', u'anticipation', u'of', u'the', u'future', u'blessings', u'which', u'the', u'past', u'seem', u'to', u'presage.', u'These', u'reflections,', u'arising', u'out', u'of', u'the', u'present', u'crisis,', u'have', u'forced', u'themselves', u'too', u'strongly', u'on', u'my', u'mind', u'to', u'be', u'suppressed.', u'You', u'will', u'join', u'with', u'me,', u'I', u'trust,', u'in', u'thinking', u'that', u'there', u'are', u'none', u'under', u'the', u'influence', u'of', u'which', u'the', u'proceedings', u'of', u'a', u'new', u'and', u'free', u'government', u'can', u'more', u'auspiciously', u'commence.', u'By', u'the', u'article', u'establishing', u'the', u'executive', u'department', u'it', u'is', u'made', u'the', u'duty', u'of', u'the', u'President', u'\"to', u'recommend', u'to', u'your', u'consideration', u'such', u'measures', u'as', u'he', u'shall', u'judge', u'necessary', u'and', u'expedient.\"', u'The', u'circumstances', u'under', u'which', u'I', u'now', u'meet', u'you', u'will', u'acquit', u'me', u'from', u'entering', u'into', u'that', u'subject', u'further', u'than', u'to', u'refer', u'to', u'the', u'great', u'constitutional', u'charter', u'under', u'which', u'you', u'are', u'assembled,', u'and', u'which,', u'in', u'defining', u'your', u'powers,', u'designates', u'the', u'objects', u'to', u'which', u'your', u'attention', u'is', u'to', u'be', u'given.', u'It', u'will', u'be', u'more', u'consistent', u'with', u'those', u'circumstances,', u'and', u'far', u'more', u'congenial', u'with', u'the', u'feelings', u'which', u'actuate', u'me,', u'to', u'substitute,', u'in', u'place', u'of', u'a', u'recommendation', u'of', u'particular', u'measures,', u'the', u'tribute', u'that', u'is', u'due', u'to', u'the', u'talents,', u'the', u'rectitude,', u'and', u'the', u'patriotism', u'which', u'adorn', u'the', u'characters', u'selected', u'to', u'devise', u'and', u'adopt', u'them.', u'In', u'these', u'honorable', u'qualifications', u'I', u'behold', u'the', u'surest', u'pledges', u'that', u'as', u'on', u'one', u'side', u'no', u'local', u'prejudices', u'or', u'attachments,', u'no', u'separate', u'views', u'nor', u'party', u'animosities,', u'will', u'misdirect', u'the', u'comprehensive', u'and', u'equal', u'eye', u'which', u'ought', u'to', u'watch', u'over', u'this', u'great', u'assemblage', u'of', u'communities', u'and', u'interests,', u'so,', u'on', u'another,', u'that', u'the', u'foundation', u'of', u'our', u'national', u'policy', u'will', u'be', u'laid', u'in', u'the', u'pure', u'and', u'immutable', u'principles', u'of', u'private', u'morality,', u'and', u'the', u'preeminence', u'of', u'free', u'government', u'be', u'exemplified', u'by', u'all', u'the', u'attributes', u'which', u'can', u'win', u'the', u'affections', u'of', u'its', u'citizens', u'and', u'command', u'the', u'respect', u'of', u'the', u'world.', u'I', u'dwell', u'on', u'this', u'prospect', u'with', u'every', u'satisfaction', u'which', u'an', u'ardent', u'love', u'for', u'my', u'country', u'can', u'inspire,', u'since', u'there', u'is', u'no', u'truth', u'more', u'thoroughly', u'established', u'than', u'that', u'there', u'exists', u'in', u'the', u'economy', u'and', u'course', u'of', u'nature', u'an', u'indissoluble', u'union', u'between', u'virtue', u'and', u'happiness;', u'between', u'duty', u'and', u'advantage;', u'between', u'the', u'genuine', u'maxims', u'of', u'an', u'honest', u'and', u'magnanimous', u'policy', u'and', u'the', u'solid', u'rewards', u'of', u'public', u'prosperity', u'and', u'felicity;', u'since', u'we', u'ought', u'to', u'be', u'no', u'less', u'persuaded', u'that', u'the', u'propitious', u'smiles', u'of', u'Heaven', u'can', u'never', u'be', u'expected', u'on', u'a', u'nation', u'that', u'disregards', u'the', u'eternal', u'rules', u'of', u'order', u'and', u'right', u'which', u'Heaven', u'itself', u'has', u'ordained;', u'and', u'since', u'the', u'preservation', u'of', u'the', u'sacred', u'fire', u'of', u'liberty', u'and', u'the', u'destiny', u'of', u'the', u'republican', u'model', u'of', u'government', u'are', u'justly', u'considered,', u'perhaps,', u'as', u'deeply,', u'as', u'finally,', u'staked', u'on', u'the', u'experiment', u'entrusted', u'to', u'the', u'hands', u'of', u'the', u'American', u'people.', u'Besides', u'the', u'ordinary', u'objects', u'submitted', u'to', u'your', u'care,', u'it', u'will', u'remain', u'with', u'your', u'judgment', u'to', u'decide', u'how', u'far', u'an', u'exercise', u'of', u'the', u'occasional', u'power', u'delegated', u'by', u'the', u'fifth', u'article', u'of', u'the', u'Constitution', u'is', u'rendered', u'expedient', u'at', u'the', u'present', u'juncture', u'by', u'the', u'nature', u'of', u'objections', u'which', u'have', u'been', u'urged', u'against', u'the', u'system,', u'or', u'by', u'the', u'degree', u'of', u'inquietude', u'which', u'has', u'given', u'birth', u'to', u'them.', u'Instead', u'of', u'undertaking', u'particular', u'recommendations', u'on', u'this', u'subject,', u'in', u'which', u'I', u'could', u'be', u'guided', u'by', u'no', u'lights', u'derived', u'from', u'official', u'opportunities,', u'I', u'shall', u'again', u'give', u'way', u'to', u'my', u'entire', u'confidence', u'in', u'your', u'discernment', u'and', u'pursuit', u'of', u'the', u'public', u'good;', u'for', u'I', u'assure', u'myself', u'that', u'whilst', u'you', u'carefully', u'avoid', u'every', u'alteration', u'which', u'might', u'endanger', u'the', u'benefits', u'of', u'an', u'united', u'and', u'effective', u'government,', u'or', u'which', u'ought', u'to', u'await', u'the', u'future', u'lessons', u'of', u'experience,', u'a', u'reverence', u'for', u'the', u'characteristic', u'rights', u'of', u'freemen', u'and', u'a', u'regard', u'for', u'the', u'public', u'harmony', u'will', u'sufficiently', u'influence', u'your', u'deliberations', u'on', u'the', u'question', u'how', u'far', u'the', u'former', u'can', u'be', u'impregnably', u'fortified', u'or', u'the', u'latter', u'be', u'safely', u'and', u'advantageously', u'promoted.', u'To', u'the', u'foregoing', u'observations', u'I', u'have', u'one', u'to', u'add,', u'which', u'will', u'be', u'most', u'properly', u'addressed', u'to', u'the', u'House', u'of', u'Representatives.', u'It', u'concerns', u'myself,', u'and', u'will', u'therefore', u'be', u'as', u'brief', u'as', u'possible.', u'When', u'I', u'was', u'first', u'honored', u'with', u'a', u'call', u'into', u'the', u'service', u'of', u'my', u'country,', u'then', u'on', u'the', u'eve', u'of', u'an', u'arduous', u'struggle', u'for', u'its', u'liberties,', u'the', u'light', u'in', u'which', u'I', u'contemplated', u'my', u'duty', u'required', u'that', u'I', u'should', u'renounce', u'every', u'pecuniary', u'compensation.', u'From', u'this', u'resolution', u'I', u'have', u'in', u'no', u'instance', u'departed;', u'and', u'being', u'still', u'under', u'the', u'impressions', u'which', u'produced', u'it,', u'I', u'must', u'decline', u'as', u'inapplicable', u'to', u'myself', u'any', u'share', u'in', u'the', u'personal', u'emoluments', u'which', u'may', u'be', u'indispensably', u'included', u'in', u'a', u'permanent', u'provision', u'for', u'the', u'executive', u'department,', u'and', u'must', u'accordingly', u'pray', u'that', u'the', u'pecuniary', u'estimates', u'for', u'the', u'station', u'in', u'which', u'I', u'am', u'placed', u'may', u'during', u'my', u'continuance', u'in', u'it', u'be', u'limited', u'to', u'such', u'actual', u'expenditures', u'as', u'the', u'public', u'good', u'may', u'be', u'thought', u'to', u'require.', u'Having', u'thus', u'imparted', u'to', u'you', u'my', u'sentiments', u'as', u'they', u'have', u'been', u'awakened', u'by', u'the', u'occasion', u'which', u'brings', u'us', u'together,', u'I', u'shall', u'take', u'my', u'present', u'leave;', u'but', u'not', u'without', u'resorting', u'once', u'more', u'to', u'the', u'benign', u'Parent', u'of', u'the', u'Human', u'Race', u'in', u'humble', u'supplication', u'that,', u'since', u'He', u'has', u'been', u'pleased', u'to', u'favor', u'the', u'American', u'people', u'with', u'opportunities', u'for', u'deliberating', u'in', u'perfect', u'tranquillity,', u'and', u'dispositions', u'for', u'deciding', u'with', u'unparalleled', u'unanimity', u'on', u'a', u'form', u'of', u'government', u'for', u'the', u'security', u'of', u'their', u'union', u'and', u'the', u'advancement', u'of', u'their', u'happiness,', u'so', u'His', u'divine', u'blessing', u'may', u'be', u'equally', u'conspicuous', u'in', u'the', u'enlarged', u'views,', u'the', u'temperate', u'consultations,', u'and', u'the', u'wise', u'measures', u'on', u'which', u'the', u'success', u'of', u'this', u'Government', u'must', u'depend.', u'When', u'it', u'was', u'first', u'perceived,', u'in', u'early', u'times,', u'that', u'no', u'middle', u'course', u'for', u'America', u'remained', u'between', u'unlimited', u'submission', u'to', u'a', u'foreign', u'legislature', u'and', u'a', u'total', u'independence', u'of', u'its', u'claims,', u'men', u'of', u'reflection', u'were', u'less', u'apprehensive', u'of', u'danger', u'from', u'the', u'formidable', u'power', u'of', u'fleets', u'and', u'armies', u'they', u'must', u'determine', u'to', u'resist', u'than', u'from', u'those', u'contests', u'and', u'dissensions', u'which', u'would', u'certainly', u'arise', u'concerning', u'the', u'forms', u'of', u'government', u'to', u'be', u'instituted', u'over', u'the', u'whole', u'and', u'over', u'the', u'parts', u'of', u'this', u'extensive', u'country.', u'Relying,', u'however,', u'on', u'the', u'purity', u'of', u'their', u'intentions,', u'the', u'justice', u'of', u'their', u'cause,', u'and', u'the', u'integrity', u'and', u'intelligence', u'of', u'the', u'people,', u'under', u'an', u'overruling', u'Providence', u'which', u'had', u'so', u'signally', u'protected', u'this', u'country', u'from', u'the', u'first,', u'the', u'representatives', u'of', u'this', u'nation,', u'then', u'consisting', u'of', u'little', u'more', u'than', u'half', u'its', u'present', u'number,', u'not', u'only', u'broke', u'to', u'pieces', u'the', u'chains', u'which', u'were', u'forging', u'and', u'the', u'rod', u'of', u'iron', u'that', u'was', u'lifted', u'up,', u'but', u'frankly', u'cut', u'asunder', u'the', u'ties', u'which', u'had', u'bound', u'them,', u'and', u'launched', u'into', u'an', u'ocean', u'of', u'uncertainty.', u'The', u'zeal', u'and', u'ardor', u'of', u'the', u'people', u'during', u'the', u'Revolutionary', u'war,', u'supplying', u'the', u'place', u'of', u'government,', u'commanded', u'a', u'degree', u'of', u'order', u'sufficient', u'at', u'least', u'for', u'the', u'temporary', u'preservation', u'of', u'society.', u'The', u'Confederation', u'which', u'was', u'early', u'felt', u'to', u'be', u'necessary', u'was', u'prepared', u'from', u'the', u'models', u'of', u'the', u'Batavian', u'and', u'Helvetic', u'confederacies,', u'the', u'only', u'examples', u'which', u'remain', u'with', u'any', u'detail', u'and', u'precision', u'in', u'history,', u'and', u'certainly', u'the', u'only', u'ones', u'which', u'the', u'people', u'at', u'large', u'had', u'ever', u'considered.', u'But', u'reflecting', u'on', u'the', u'striking', u'difference', u'in', u'so', u'many', u'particulars', u'between', u'this', u'country', u'and', u'those', u'where', u'a', u'courier', u'may', u'go', u'from', u'the', u'seat', u'of', u'government', u'to', u'the', u'frontier', u'in', u'a', u'single', u'day,', u'it', u'was', u'then', u'certainly', u'foreseen', u'by', u'some', u'who', u'assisted', u'in', u'Congress', u'at', u'the', u'formation', u'of', u'it', u'that', u'it', u'could', u'not', u'be', u'durable.', u'Negligence', u'of', u'its', u'regulations,', u'inattention', u'to', u'its', u'recommendations,', u'if', u'not', u'disobedience', u'to', u'its', u'authority,', u'not', u'only', u'in', u'individuals', u'but', u'in', u'States,', u'soon', u'appeared', u'with', u'their', u'melancholy', u'consequences', u'--', u'universal', u'languor,', u'jealousies', u'and', u'rivalries', u'of', u'States,', u'decline', u'of', u'navigation', u'and', u'commerce,', u'discouragement', u'of', u'necessary', u'manufactures,', u'universal', u'fall', u'in', u'the', u'value', u'of', u'lands', u'and', u'their', u'produce,', u'contempt', u'of', u'public', u'and', u'private', u'faith,', u'loss', u'of', u'consideration', u'and', u'credit', u'with', u'foreign', u'nations,', u'and', u'at', u'length', u'in', u'discontents,', u'animosities,', u'combinations,', u'partial', u'conventions,', u'and', u'insurrection,', u'threatening', u'some', u'great', u'national', u'calamity.', u'In', u'this', u'dangerous', u'crisis', u'the', u'people', u'of', u'America', u'were', u'not', u'abandoned', u'by', u'their', u'usual', u'good', u'sense,', u'presence', u'of', u'mind,', u'resolution,', u'or', u'integrity.', u'Measures', u'were', u'pursued', u'to', u'concert', u'a', u'plan', u'to', u'form', u'a', u'more', u'perfect', u'union,', u'establish', u'justice,', u'insure', u'domestic', u'tranquillity,', u'provide', u'for', u'the', u'common', u'defense,', u'promote', u'the', u'general', u'welfare,', u'and', u'secure', u'the', u'blessings', u'of', u'liberty.', u'The', u'public', u'disquisitions,', u'discussions,', u'and', u'deliberations', u'issued', u'in', u'the', u'present', u'happy', u'Constitution', u'of', u'Government.', u'Employed', u'in', u'the', u'service', u'of', u'my', u'country', u'abroad', u'during', u'the', u'whole', u'course', u'of', u'these', u'transactions,', u'I', u'first', u'saw', u'the', u'Constitution', u'of', u'the', u'United', u'States', u'in', u'a', u'foreign', u'country.', u'Irritated', u'by', u'no', u'literary', u'altercation,', u'animated', u'by', u'no', u'public', u'debate,', u'heated', u'by', u'no', u'party', u'animosity,', u'I', u'read', u'it', u'with', u'great', u'satisfaction,', u'as', u'the', u'result', u'of', u'good', u'heads', u'prompted', u'by', u'good', u'hearts,', u'as', u'an', u'experiment', u'better', u'adapted', u'to', u'the', u'genius,', u'character,', u'situation,', u'and', u'relations', u'of', u'this', u'nation', u'and', u'country', u'than', u'any', u'which', u'had', u'ever', u'been', u'proposed', u'or', u'suggested.', u'In', u'its', u'general', u'principles', u'and', u'great', u'outlines', u'it', u'was', u'conformable', u'to', u'such', u'a', u'system', u'of', u'government', u'as', u'I', u'had', u'ever', u'most', u'esteemed,', u'and', u'in', u'some', u'States,', u'my', u'own', u'native', u'State', u'in', u'particular,', u'had', u'contributed', u'to', u'establish.', u'Claiming', u'a', u'right', u'of', u'suffrage,', u'in', u'common', u'with', u'my', u'fellow-citizens,', u'in', u'the', u'adoption', u'or', u'rejection', u'of', u'a', u'constitution', u'which', u'was', u'to', u'rule', u'me', u'and', u'my', u'posterity,', u'as', u'well', u'as', u'them', u'and', u'theirs,', u'I', u'did', u'not', u'hesitate', u'to', u'express', u'my', u'approbation', u'of', u'it', u'on', u'all', u'occasions,', u'in', u'public', u'and', u'in', u'private.', u'It', u'was', u'not', u'then,', u'nor', u'has', u'been', u'since,', u'any', u'objection', u'to', u'it', u'in', u'my', u'mind', u'that', u'the', u'Executive', u'and', u'Senate', u'were', u'not', u'more', u'permanent.', u'Nor', u'have', u'I', u'ever', u'entertained', u'a', u'thought', u'of', u'promoting', u'any', u'alteration', u'in', u'it', u'but', u'such', u'as', u'the', u'people', u'themselves,', u'in', u'the', u'course', u'of', u'their', u'experience,', u'should', u'see', u'and', u'feel', u'to', u'be', u'necessary', u'or', u'expedient,', u'and', u'by', u'their', u'representatives', u'in', u'Congress', u'and', u'the', u'State', u'legislatures,', u'according', u'to', u'the', u'Constitution', u'itself,', u'adopt', u'and', u'ordain.', u'Returning', u'to', u'the', u'bosom', u'of', u'my', u'country', u'after', u'a', u'painful', u'separation', u'from', u'it', u'for', u'ten', u'years,', u'I', u'had', u'the', u'honor', u'to', u'be', u'elected', u'to', u'a', u'station', u'under', u'the', u'new', u'order', u'of', u'things,', u'and', u'I', u'have', u'repeatedly', u'laid', u'myself', u'under', u'the', u'most', u'serious', u'obligations', u'to', u'support', u'the', u'Constitution.', u'The', u'operation', u'of', u'it', u'has', u'equaled', u'the', u'most', u'sanguine', u'expectations', u'of', u'its', u'friends,', u'and', u'from', u'an', u'habitual', u'attention', u'to', u'it,', u'satisfaction', u'in', u'its', u'administration,', u'and', u'delight', u'in', u'its', u'effects', u'upon', u'the', u'peace,', u'order,', u'prosperity,', u'and', u'happiness', u'of', u'the', u'nation', u'I', u'have', u'acquired', u'an', u'habitual', u'attachment', u'to', u'it', u'and', u'veneration', u'for', u'it.', u'What', u'other', u'form', u'of', u'government,', u'indeed,', u'can', u'so', u'well', u'deserve', u'our', u'esteem', u'and', u'love?', u'There', u'may', u'be', u'little', u'solidity', u'in', u'an', u'ancient', u'idea', u'that', u'congregations', u'of', u'men', u'into', u'cities', u'and', u'nations', u'are', u'the', u'most', u'pleasing', u'objects', u'in', u'the', u'sight', u'of', u'superior', u'intelligences,', u'but', u'this', u'is', u'very', u'certain,', u'that', u'to', u'a', u'benevolent', u'human', u'mind', u'there', u'can', u'be', u'no', u'spectacle', u'presented', u'by', u'any', u'nation', u'more', u'pleasing,', u'more', u'noble,', u'majestic,', u'or', u'august,', u'than', u'an', u'assembly', u'like', u'that', u'which', u'has', u'so', u'often', u'been', u'seen', u'in', u'this', u'and', u'the', u'other', u'Chamber', u'of', u'Congress,', u'of', u'a', u'Government', u'in', u'which', u'the', u'Executive', u'authority,', u'as', u'well', u'as', u'that', u'of', u'all', u'the', u'branches', u'of', u'the', u'Legislature,', u'are', u'exercised', u'by', u'citizens', u'selected', u'at', u'regular', u'periods', u'by', u'their', u'neighbors', u'to', u'make', u'and', u'execute', u'laws', u'for', u'the', u'general', u'good.', u'Can', u'anything', u'essential,', u'anything', u'more', u'than', u'mere', u'ornament', u'and', u'decoration,', u'be', u'added', u'to', u'this', u'by', u'robes', u'and', u'diamonds?', u'Can', u'authority', u'be', u'more', u'amiable', u'and', u'respectable', u'when', u'it', u'descends', u'from', u'accidents', u'or', u'institutions', u'established', u'in', u'remote', u'antiquity', u'than', u'when', u'it', u'springs', u'fresh', u'from', u'the', u'hearts', u'and', u'judgments', u'of', u'an', u'honest', u'and', u'enlightened', u'people?', u'For', u'it', u'is', u'the', u'people', u'only', u'that', u'are', u'represented.', u'It', u'is', u'their', u'power', u'and', u'majesty', u'that', u'is', u'reflected,', u'and', u'only', u'for', u'their', u'good,', u'in', u'every', u'legitimate', u'government,', u'under', u'whatever', u'form', u'it', u'may', u'appear.', u'The', u'existence', u'of', u'such', u'a', u'government', u'as', u'ours', u'for', u'any', u'length', u'of', u'time', u'is', u'a', u'full', u'proof', u'of', u'a', u'general', u'dissemination', u'of', u'knowledge', u'and', u'virtue', u'throughout', u'the', u'whole', u'body', u'of', u'the', u'people.', u'And', u'what', u'object', u'or', u'consideration', u'more', u'pleasing', u'than', u'this', u'can', u'be', u'presented', u'to', u'the', u'human', u'mind?', u'If', u'national', u'pride', u'is', u'ever', u'justifiable', u'or', u'excusable', u'it', u'is', u'when', u'it', u'springs,', u'not', u'from', u'power', u'or', u'riches,', u'grandeur', u'or', u'glory,', u'but', u'from', u'conviction', u'of', u'national', u'innocence,', u'information,', u'and', u'benevolence.', u'In', u'the', u'midst', u'of', u'these', u'pleasing', u'ideas', u'we', u'should', u'be', u'unfaithful', u'to', u'ourselves', u'if', u'we', u'should', u'ever', u'lose', u'sight', u'of', u'the', u'danger', u'to', u'our', u'liberties', u'if', u'anything', u'partial', u'or', u'extraneous', u'should', u'infect', u'the', u'purity', u'of', u'our', u'free,', u'fair,', u'virtuous,', u'and', u'independent', u'elections.', u'If', u'an', u'election', u'is', u'to', u'be', u'determined', u'by', u'a', u'majority', u'of', u'a', u'single', u'vote,', u'and', u'that', u'can', u'be', u'procured', u'by', u'a', u'party', u'through', u'artifice', u'or', u'corruption,', u'the', u'Government', u'may', u'be', u'the', u'choice', u'of', u'a', u'party', u'for', u'its', u'own', u'ends,', u'not', u'of', u'the', u'nation', u'for', u'the', u'national', u'good.', u'If', u'that', u'solitary', u'suffrage', u'can', u'be', u'obtained', u'by', u'foreign', u'nations', u'by', u'flattery', u'or', u'menaces,', u'by', u'fraud', u'or', u'violence,', u'by', u'terror,', u'intrigue,', u'or', u'venality,', u'the', u'Government', u'may', u'not', u'be', u'the', u'choice', u'of', u'the', u'American', u'people,', u'but', u'of', u'foreign', u'nations.', u'It', u'may', u'be', u'foreign', u'nations', u'who', u'govern', u'us,', u'and', u'not', u'we,', u'the', u'people,', u'who', u'govern', u'ourselves;', u'and', u'candid', u'men', u'will', u'acknowledge', u'that', u'in', u'such', u'cases', u'choice', u'would', u'have', u'little', u'advantage', u'to', u'boast', u'of', u'over', u'lot', u'or', u'chance.', u'Such', u'is', u'the', u'amiable', u'and', u'interesting', u'system', u'of', u'government', u'(and', u'such', u'are', u'some', u'of', u'the', u'abuses', u'to', u'which', u'it', u'may', u'be', u'exposed)', u'which', u'the', u'people', u'of', u'America', u'have', u'exhibited', u'to', u'the', u'admiration', u'and', u'anxiety', u'of', u'the', u'wise', u'and', u'virtuous', u'of', u'all', u'nations', u'for', u'eight', u'years', u'under', u'the', u'administration', u'of', u'a', u'citizen', u'who,', u'by', u'a', u'long', u'course', u'of', u'great', u'actions,', u'regulated', u'by', u'prudence,', u'justice,', u'temperance,', u'and', u'fortitude,', u'conducting', u'a', u'people', u'inspired', u'with', u'the', u'same', u'virtues', u'and', u'animated', u'with', u'the', u'same', u'ardent', u'patriotism', u'and', u'love', u'of', u'liberty', u'to', u'independence', u'and', u'peace,', u'to', u'increasing', u'wealth', u'and', u'unexampled', u'prosperity,', u'has', u'merited', u'the', u'gratitude', u'of', u'his', u'fellow-citizens,', u'commanded', u'the', u'highest', u'praises', u'of', u'foreign', u'nations,', u'and', u'secured', u'immortal', u'glory', u'with', u'posterity.', u'In', u'that', u'retirement', u'which', u'is', u'his', u'voluntary', u'choice', u'may', u'he', u'long', u'live', u'to', u'enjoy', u'the', u'delicious', u'recollection', u'of', u'his', u'services,', u'the', u'gratitude', u'of', u'mankind,', u'the', u'happy', u'fruits', u'of', u'them', u'to', u'himself', u'and', u'the', u'world,', u'which', u'are', u'daily', u'increasing,', u'and', u'that', u'splendid', u'prospect', u'of', u'the', u'future', u'fortunes', u'of', u'this', u'country', u'which', u'is', u'opening', u'from', u'year', u'to', u'year.', u'His', u'name', u'may', u'be', u'still', u'a', u'rampart,', u'and', u'the', u'knowledge', u'that', u'he', u'lives', u'a', u'bulwark,', u'against', u'all', u'open', u'or', u'secret', u'enemies', u'of', u'his', u\"country's\", u'peace.', u'This', u'example', u'has', u'been', u'recommended', u'to', u'the', u'imitation', u'of', u'his', u'successors', u'by', u'both', u'Houses', u'of', u'Congress', u'and', u'by', u'the', u'voice', u'of', u'the', u'legislatures', u'and', u'the', u'people', u'throughout', u'the', u'nation.', u'On', u'this', u'subject', u'it', u'might', u'become', u'me', u'better', u'to', u'be', u'silent', u'or', u'to', u'speak', u'with', u'diffidence;', u'but', u'as', u'something', u'may', u'be', u'expected,', u'the', u'occasion,', u'I', u'hope,', u'will', u'be', u'admitted', u'as', u'an', u'apology', u'if', u'I', u'venture', u'to', u'say', u'that', u'if', u'a', u'preference,', u'upon', u'principle,', u'of', u'a', u'free', u'republican', u'government,', u'formed', u'upon', u'long', u'and', u'serious', u'reflection,', u'after', u'a', u'diligent', u'and', u'impartial', u'inquiry', u'after', u'truth;', u'if', u'an', u'attachment', u'to', u'the', u'Constitution', u'of', u'the', u'United', u'States,', u'and', u'a', u'conscientious', u'determination', u'to', u'support', u'it', u'until', u'it', u'shall', u'be', u'altered', u'by', u'the', u'judgments', u'and', u'wishes', u'of', u'the', u'people,', u'expressed', u'in', u'the', u'mode', u'prescribed', u'in', u'it;', u'if', u'a', u'respectful', u'attention', u'to', u'the', u'constitutions', u'of', u'the', u'individual', u'States', u'and', u'a', u'constant', u'caution', u'and', u'delicacy', u'toward', u'the', u'State', u'governments;', u'if', u'an', u'equal', u'and', u'impartial', u'regard', u'to', u'the', u'rights,', u'interest,', u'honor,', u'and', u'happiness', u'of', u'all', u'the', u'States', u'in', u'the', u'Union,', u'without', u'preference', u'or', u'regard', u'to', u'a', u'northern', u'or', u'southern,', u'an', u'eastern', u'or', u'western,', u'position,', u'their', u'various', u'political', u'opinions', u'on', u'unessential', u'points', u'or', u'their', u'personal', u'attachments;', u'if', u'a', u'love', u'of', u'virtuous', u'men', u'of', u'all', u'parties', u'and', u'denominations;', u'if', u'a', u'love', u'of', u'science', u'and', u'letters', u'and', u'a', u'wish', u'to', u'patronize', u'every', u'rational', u'effort', u'to', u'encourage', u'schools,', u'colleges,', u'universities,', u'academies,', u'and', u'every', u'institution', u'for', u'propagating', u'knowledge,', u'virtue,', u'and', u'religion', u'among', u'all', u'classes', u'of', u'the', u'people,', u'not', u'only', u'for', u'their', u'benign', u'influence', u'on', u'the', u'happiness', u'of', u'life', u'in', u'all', u'its', u'stages', u'and', u'classes,', u'and', u'of', u'society', u'in', u'all', u'its', u'forms,', u'but', u'as', u'the', u'only', u'means', u'of', u'preserving', u'our', u'Constitution', u'from', u'its', u'natural', u'enemies,', u'the', u'spirit', u'of', u'sophistry,', u'the', u'spirit', u'of', u'party,', u'the', u'spirit', u'of', u'intrigue,', u'the', u'profligacy', u'of', u'corruption,', u'and', u'the', u'pestilence', u'of', u'foreign', u'influence,', u'which', u'is', u'the', u'angel', u'of', u'destruction', u'to', u'elective', u'governments;', u'if', u'a', u'love', u'of', u'equal', u'laws,', u'of', u'justice,', u'and', u'humanity', u'in', u'the', u'interior', u'administration;', u'if', u'an', u'inclination', u'to', u'improve', u'agriculture,', u'commerce,', u'and', u'manufacturers', u'for', u'necessity,', u'convenience,', u'and', u'defense;', u'if', u'a', u'spirit', u'of', u'equity', u'and', u'humanity', u'toward', u'the', u'aboriginal', u'nations', u'of', u'America,', u'and', u'a', u'disposition', u'to', u'meliorate', u'their', u'condition', u'by', u'inclining', u'them', u'to', u'be', u'more', u'friendly', u'to', u'us,', u'and', u'our', u'citizens', u'to', u'be', u'more', u'friendly', u'to', u'them;', u'if', u'an', u'inflexible', u'determination', u'to', u'maintain', u'peace', u'and', u'inviolable', u'faith', u'with', u'all', u'nations,', u'and', u'that', u'system', u'of', u'neutrality', u'and', u'impartiality', u'among', u'the', u'belligerent', u'powers', u'of', u'Europe', u'which', u'has', u'been', u'adopted', u'by', u'this', u'Government', u'and', u'so', u'solemnly', u'sanctioned', u'by', u'both', u'Houses', u'of', u'Congress', u'and', u'applauded', u'by', u'the', u'legislatures', u'of', u'the', u'States', u'and', u'the', u'public', u'opinion,', u'until', u'it', u'shall', u'be', u'otherwise', u'ordained', u'by', u'Congress;', u'if', u'a', u'personal', u'esteem', u'for', u'the', u'French', u'nation,', u'formed', u'in', u'a', u'residence', u'of', u'seven', u'years', u'chiefly', u'among', u'them,', u'and', u'a', u'sincere', u'desire', u'to', u'preserve', u'the', u'friendship', u'which', u'has', u'been', u'so', u'much', u'for', u'the', u'honor', u'and', u'interest', u'of', u'both', u'nations;', u'if,', u'while', u'the', u'conscious', u'honor', u'and', u'integrity', u'of', u'the', u'people', u'of', u'America', u'and', u'the', u'internal', u'sentiment', u'of', u'their', u'own', u'power', u'and', u'energies', u'must', u'be', u'preserved,', u'an', u'earnest', u'endeavor', u'to', u'investigate', u'every', u'just', u'cause', u'and', u'remove', u'every', u'colorable', u'pretense', u'of', u'complaint;', u'if', u'an', u'intention', u'to', u'pursue', u'by', u'amicable', u'negotiation', u'a', u'reparation', u'for', u'the', u'injuries', u'that', u'have', u'been', u'committed', u'on', u'the', u'commerce', u'of', u'our', u'fellow-citizens', u'by', u'whatever', u'nation,', u'and', u'if', u'success', u'can', u'not', u'be', u'obtained,', u'to', u'lay', u'the', u'facts', u'before', u'the', u'Legislature,', u'that', u'they', u'may', u'consider', u'what', u'further', u'measures', u'the', u'honor', u'and', u'interest', u'of', u'the', u'Government', u'and', u'its', u'constituents', u'demand;', u'if', u'a', u'resolution', u'to', u'do', u'justice', u'as', u'far', u'as', u'may', u'depend', u'upon', u'me,', u'at', u'all', u'times', u'and', u'to', u'all', u'nations,', u'and', u'maintain', u'peace,', u'friendship,', u'and', u'benevolence', u'with', u'all', u'the', u'world;', u'if', u'an', u'unshaken', u'confidence', u'in', u'the', u'honor,', u'spirit,', u'and', u'resources', u'of', u'the', u'American', u'people,', u'on', u'which', u'I', u'have', u'so', u'often', u'hazarded', u'my', u'all', u'and', u'never', u'been', u'deceived;', u'if', u'elevated', u'ideas', u'of', u'the', u'high', u'destinies', u'of', u'this', u'country', u'and', u'of', u'my', u'own', u'duties', u'toward', u'it,', u'founded', u'on', u'a', u'knowledge', u'of', u'the', u'moral', u'principles', u'and', u'intellectual', u'improvements', u'of', u'the', u'people', u'deeply', u'engraven', u'on', u'my', u'mind', u'in', u'early', u'life,', u'and', u'not', u'obscured', u'but', u'exalted', u'by', u'experience', u'and', u'age;', u'and,', u'with', u'humble', u'reverence,', u'I', u'feel', u'it', u'to', u'be', u'my', u'duty', u'to', u'add,', u'if', u'a', u'veneration', u'for', u'the', u'religion', u'of', u'a', u'people', u'who', u'profess', u'and', u'call', u'themselves', u'Christians,', u'and', u'a', u'fixed', u'resolution', u'to', u'consider', u'a', u'decent', u'respect', u'for', u'Christianity', u'among', u'the', u'best', u'recommendations', u'for', u'the', u'public', u'service,', u'can', u'enable', u'me', u'in', u'any', u'degree', u'to', u'comply', u'with', u'your', u'wishes,', u'it', u'shall', u'be', u'my', u'strenuous', u'endeavor', u'that', u'this', u'sagacious', u'injunction', u'of', u'the', u'two', u'Houses', u'shall', u'not', u'be', u'without', u'effect.', u'With', u'this', u'great', u'example', u'before', u'me,', u'with', u'the', u'sense', u'and', u'spirit,', u'the', u'faith', u'and', u'honor,', u'the', u'duty', u'and', u'interest,', u'of', u'the', u'same', u'American', u'people', u'pledged', u'to', u'support', u'the', u'Constitution', u'of', u'the', u'United', u'States,', u'I', u'entertain', u'no', u'doubt', u'of', u'its', u'continuance', u'in', u'all', u'its', u'energy,', u'and', u'my', u'mind', u'is', u'prepared', u'without', u'hesitation', u'to', u'lay', u'myself', u'under', u'the', u'most', u'solemn', u'obligations', u'to', u'support', u'it', u'to', u'the', u'utmost', u'of', u'my', u'power.', u'And', u'may', u'that', u'Being', u'who', u'is', u'supreme', u'over', u'all,', u'the', u'Patron', u'of', u'Order,', u'the', u'Fountain', u'of', u'Justice,', u'and', u'the', u'Protector', u'in', u'all', u'ages', u'of', u'the', u'world', u'of', u'virtuous', u'liberty,', u'continue', u'His', u'blessing', u'upon', u'this', u'nation', u'and', u'its', u'Government', u'and', u'give', u'it', u'all', u'possible', u'success', u'and', u'duration', u'consistent', u'with', u'the', u'ends', u'of', u'His', u'providence.', u'Friends', u'and', u'Fellow', u'Citizens:', u'Called', u'upon', u'to', u'undertake', u'the', u'duties', u'of', u'the', u'first', u'executive', u'office', u'of', u'our', u'country,', u'I', u'avail', u'myself', u'of', u'the', u'presence', u'of', u'that', u'portion', u'of', u'my', u'fellow', u'citizens', u'which', u'is', u'here', u'assembled', u'to', u'express', u'my', u'grateful', u'thanks', u'for', u'the', u'favor', u'with', u'which', u'they', u'have', u'been', u'pleased', u'to', u'look', u'toward', u'me,', u'to', u'declare', u'a', u'sincere', u'consciousness', u'that', u'the', u'task', u'is', u'above', u'my', u'talents,', u'and', u'that', u'I', u'approach', u'it', u'with', u'those', u'anxious', u'and', u'awful', u'presentiments', u'which', u'the', u'greatness', u'of', u'the', u'charge', u'and', u'the', u'weakness', u'of', u'my', u'powers', u'so', u'justly', u'inspire.', u'A', u'rising', u'nation,', u'spread', u'over', u'a', u'wide', u'and', u'fruitful', u'land,', u'traversing', u'all', u'the', u'seas', u'with', u'the', u'rich', u'productions', u'of', u'their', u'industry,', u'engaged', u'in', u'commerce', u'with', u'nations', u'who', u'feel', u'power', u'and', u'forget', u'right,', u'advancing', u'rapidly', u'to', u'destinies', u'beyond', u'the', u'reach', u'of', u'mortal', u'eye', u'--', u'when', u'I', u'contemplate', u'these', u'transcendent', u'objects,', u'and', u'see', u'the', u'honor,', u'the', u'happiness,', u'and', u'the', u'hopes', u'of', u'this', u'beloved', u'country', u'committed', u'to', u'the', u'issue,', u'and', u'the', u'auspices', u'of', u'this', u'day,', u'I', u'shrink', u'from', u'the', u'contemplation,', u'and', u'humble', u'myself', u'before', u'the', u'magnitude', u'of', u'the', u'undertaking.', u'Utterly,', u'indeed,', u'should', u'I', u'despair', u'did', u'not', u'the', u'presence', u'of', u'many', u'whom', u'I', u'here', u'see', u'remind', u'me', u'that', u'in', u'the', u'other', u'high', u'authorities', u'provided', u'by', u'our', u'Constitution', u'I', u'shall', u'find', u'resources', u'of', u'wisdom,', u'of', u'virtue,', u'and', u'of', u'zeal', u'on', u'which', u'to', u'rely', u'under', u'all', u'difficulties.', u'To', u'you,', u'then,', u'gentlemen,', u'who', u'are', u'charged', u'with', u'the', u'sovereign', u'functions', u'of', u'legislation,', u'and', u'to', u'those', u'associated', u'with', u'you,', u'I', u'look', u'with', u'encouragement', u'for', u'that', u'guidance', u'and', u'support', u'which', u'may', u'enable', u'us', u'to', u'steer', u'with', u'safety', u'the', u'vessel', u'in', u'which', u'we', u'are', u'all', u'embarked', u'amidst', u'the', u'conflicting', u'elements', u'of', u'a', u'troubled', u'world.', u'During', u'the', u'contest', u'of', u'opinion', u'through', u'which', u'we', u'have', u'passed', u'the', u'animation', u'of', u'discussions', u'and', u'of', u'exertions', u'has', u'sometimes', u'worn', u'an', u'aspect', u'which', u'might', u'impose', u'on', u'strangers', u'unused', u'to', u'think', u'freely', u'and', u'to', u'speak', u'and', u'to', u'write', u'what', u'they', u'think;', u'but', u'this', u'being', u'now', u'decided', u'by', u'the', u'voice', u'of', u'the', u'nation,', u'announced', u'according', u'to', u'the', u'rules', u'of', u'the', u'Constitution,', u'all', u'will,', u'of', u'course,', u'arrange', u'themselves', u'under', u'the', u'will', u'of', u'the', u'law,', u'and', u'unite', u'in', u'common', u'efforts', u'for', u'the', u'common', u'good.', u'All,', u'too,', u'will', u'bear', u'in', u'mind', u'this', u'sacred', u'principle,', u'that', u'though', u'the', u'will', u'of', u'the', u'majority', u'is', u'in', u'all', u'cases', u'to', u'prevail,', u'that', u'will', u'to', u'be', u'rightful', u'must', u'be', u'reasonable;', u'that', u'the', u'minority', u'possess', u'their', u'equal', u'rights,', u'which', u'equal', u'law', u'must', u'protect,', u'and', u'to', u'violate', u'would', u'be', u'oppression.', u'Let', u'us,', u'then,', u'fellow', u'citizens,', u'unite', u'with', u'one', u'heart', u'and', u'one', u'mind.', u'Let', u'us', u'restore', u'to', u'social', u'intercourse', u'that', u'harmony', u'and', u'affection', u'without', u'which', u'liberty', u'and', u'even', u'life', u'itself', u'are', u'but', u'dreary', u'things.', u'And', u'let', u'us', u'reflect', u'that,', u'having', u'banished', u'from', u'our', u'land', u'that', u'religious', u'intolerance', u'under', u'which', u'mankind', u'so', u'long', u'bled', u'and', u'suffered,', u'we', u'have', u'yet', u'gained', u'little', u'if', u'we', u'countenance', u'a', u'political', u'intolerance', u'as', u'despotic,', u'as', u'wicked,', u'and', u'capable', u'of', u'as', u'bitter', u'and', u'bloody', u'persecutions.', u'During', u'the', u'throes', u'and', u'convulsions', u'of', u'the', u'ancient', u'world,', u'during', u'the', u'agonizing', u'spasms', u'of', u'infuriated', u'man,', u'seeking', u'through', u'blood', u'and', u'slaughter', u'his', u'long-lost', u'liberty,', u'it', u'was', u'not', u'wonderful', u'that', u'the', u'agitation', u'of', u'the', u'billows', u'should', u'reach', u'even', u'this', u'distant', u'and', u'peaceful', u'shore;', u'that', u'this', u'should', u'be', u'more', u'felt', u'and', u'feared', u'by', u'some', u'and', u'less', u'by', u'others,', u'and', u'should', u'divide', u'opinions', u'as', u'to', u'measures', u'of', u'safety.', u'But', u'every', u'difference', u'of', u'opinion', u'is', u'not', u'a', u'difference', u'of', u'principle.', u'We', u'have', u'called', u'by', u'different', u'names', u'brethren', u'of', u'the', u'same', u'principle.', u'We', u'are', u'all', u'Republicans,', u'we', u'are', u'all', u'Federalists.', u'If', u'there', u'be', u'any', u'among', u'us', u'who', u'would', u'wish', u'to', u'dissolve', u'this', u'Union', u'or', u'to', u'change', u'its', u'republican', u'form,', u'let', u'them', u'stand', u'undisturbed', u'as', u'monuments', u'of', u'the', u'safety', u'with', u'which', u'error', u'of', u'opinion', u'may', u'be', u'tolerated', u'where', u'reason', u'is', u'left', u'free', u'to', u'combat', u'it.', u'I', u'know,', u'indeed,', u'that', u'some', u'honest', u'men', u'fear', u'that', u'a', u'republican', u'government', u'can', u'not', u'be', u'strong,', u'that', u'this', u'Government', u'is', u'not', u'strong', u'enough;', u'but', u'would', u'the', u'honest', u'patriot,', u'in', u'the', u'full', u'tide', u'of', u'successful', u'experiment,', u'abandon', u'a', u'government', u'which', u'has', u'so', u'far', u'kept', u'us', u'free', u'and', u'firm', u'on', u'the', u'theoretic', u'and', u'visionary', u'fear', u'that', u'this', u'Government,', u'the', u\"world's\", u'best', u'hope,', u'may', u'by', u'possibility', u'want', u'energy', u'to', u'preserve', u'itself?', u'I', u'trust', u'not.', u'I', u'believe', u'this,', u'on', u'the', u'contrary,', u'the', u'strongest', u'Government', u'on', u'earth.', u'I', u'believe', u'it', u'the', u'only', u'one', u'where', u'every', u'man,', u'at', u'the', u'call', u'of', u'the', u'law,', u'would', u'fly', u'to', u'the', u'standard', u'of', u'the', u'law,', u'and', u'would', u'meet', u'invasions', u'of', u'the', u'public', u'order', u'as', u'his', u'own', u'personal', u'concern.', u'Sometimes', u'it', u'is', u'said', u'that', u'man', u'can', u'not', u'be', u'trusted', u'with', u'the', u'government', u'of', u'himself.', u'Can', u'he,', u'then,', u'be', u'trusted', u'with', u'the', u'government', u'of', u'others?', u'Or', u'have', u'we', u'found', u'angels', u'in', u'the', u'forms', u'of', u'kings', u'to', u'govern', u'him?', u'Let', u'history', u'answer', u'this', u'question.', u'Let', u'us,', u'then,', u'with', u'courage', u'and', u'confidence', u'pursue', u'our', u'own', u'Federal', u'and', u'Republican', u'principles,', u'our', u'attachment', u'to', u'union', u'and', u'representative', u'government.', u'Kindly', u'separated', u'by', u'nature', u'and', u'a', u'wide', u'ocean', u'from', u'the', u'exterminating', u'havoc', u'of', u'one', u'quarter', u'of', u'the', u'globe;', u'too', u'high-minded', u'to', u'endure', u'the', u'degradations', u'of', u'the', u'others;', u'possessing', u'a', u'chosen', u'country,', u'with', u'room', u'enough', u'for', u'our', u'descendants', u'to', u'the', u'thousandth', u'and', u'thousandth', u'generation;', u'entertaining', u'a', u'due', u'sense', u'of', u'our', u'equal', u'right', u'to', u'the', u'use', u'of', u'our', u'own', u'faculties,', u'to', u'the', u'acquisitions', u'of', u'our', u'own', u'industry,', u'to', u'honor', u'and', u'confidence', u'from', u'our', u'fellow', u'citizens,', u'resulting', u'not', u'from', u'birth,', u'but', u'from', u'our', u'actions', u'and', u'their', u'sense', u'of', u'them;', u'enlightened', u'by', u'a', u'benign', u'religion,', u'professed,', u'indeed,', u'and', u'practiced', u'in', u'various', u'forms,', u'yet', u'all', u'of', u'them', u'inculcating', u'honesty,', u'truth,', u'temperance,', u'gratitude,', u'and', u'the', u'love', u'of', u'man;', u'acknowledging', u'and', u'adoring', u'an', u'overruling', u'Providence,', u'which', u'by', u'all', u'its', u'dispensations', u'proves', u'that', u'it', u'delights', u'in', u'the', u'happiness', u'of', u'man', u'here', u'and', u'his', u'greater', u'happiness', u'hereafter', u'--', u'with', u'all', u'these', u'blessings,', u'what', u'more', u'is', u'necessary', u'to', u'make', u'us', u'a', u'happy', u'and', u'a', u'prosperous', u'people?', u'Still', u'one', u'thing', u'more,', u'fellow', u'citizens', u'--', u'a', u'wise', u'and', u'frugal', u'Government,', u'which', u'shall', u'restrain', u'men', u'from', u'injuring', u'one', u'another,', u'shall', u'leave', u'them', u'otherwise', u'free', u'to', u'regulate', u'their', u'own', u'pursuits', u'of', u'industry', u'and', u'improvement,', u'and', u'shall', u'not', u'take', u'from', u'the', u'mouth', u'of', u'labor', u'the', u'bread', u'it', u'has', u'earned.', u'This', u'is', u'the', u'sum', u'of', u'good', u'government,', u'and', u'this', u'is', u'necessary', u'to', u'close', u'the', u'circle', u'of', u'our', u'felicities.', u'About', u'to', u'enter,', u'fellow-citizens,', u'on', u'the', u'exercise', u'of', u'duties', u'which', u'comprehend', u'everything', u'dear', u'and', u'valuable', u'to', u'you,', u'it', u'is', u'proper', u'you', u'should', u'understand', u'what', u'I', u'deem', u'the', u'essential', u'principles', u'of', u'our', u'Government,', u'and', u'consequently', u'those', u'which', u'ought', u'to', u'shape', u'its', u'Administration.', u'I', u'will', u'compress', u'them', u'within', u'the', u'narrowest', u'compass', u'they', u'will', u'bear,', u'stating', u'the', u'general', u'principle,', u'but', u'not', u'all', u'its', u'limitations.', u'Equal', u'and', u'exact', u'justice', u'to', u'all', u'men,', u'of', u'whatever', u'state', u'or', u'persuasion,', u'religious', u'or', u'political;', u'peace,', u'commerce,', u'and', u'honest', u'friendship', u'with', u'all', u'nations,', u'entangling', u'alliances', u'with', u'none;', u'the', u'support', u'of', u'the', u'State', u'governments', u'in', u'all', u'their', u'rights,', u'as', u'the', u'most', u'competent', u'administrations', u'for', u'our', u'domestic', u'concerns', u'and', u'the', u'surest', u'bulwarks', u'against', u'antirepublican', u'tendencies;', u'the', u'preservation', u'of', u'the', u'General', u'Government', u'in', u'its', u'whole', u'constitutional', u'vigor,', u'as', u'the', u'sheet', u'anchor', u'of', u'our', u'peace', u'at', u'home', u'and', u'safety', u'abroad;', u'a', u'jealous', u'care', u'of', u'the', u'right', u'of', u'election', u'by', u'the', u'people', u'--', u'a', u'mild', u'and', u'safe', u'corrective', u'of', u'abuses', u'which', u'are', u'lopped', u'by', u'the', u'sword', u'of', u'revolution', u'where', u'peaceable', u'remedies', u'are', u'unprovided;', u'absolute', u'acquiescence', u'in', u'the', u'decisions', u'of', u'the', u'majority,', u'the', u'vital', u'principle', u'of', u'republics,', u'from', u'which', u'is', u'no', u'appeal', u'but', u'to', u'force,', u'the', u'vital', u'principle', u'and', u'immediate', u'parent', u'of', u'despotism;', u'a', u'well', u'disciplined', u'militia,', u'our', u'best', u'reliance', u'in', u'peace', u'and', u'for', u'the', u'first', u'moments', u'of', u'war,', u'till', u'regulars', u'may', u'relieve', u'them;', u'the', u'supremacy', u'of', u'the', u'civil', u'over', u'the', u'military', u'authority;', u'economy', u'in', u'the', u'public', u'expense,', u'that', u'labor', u'may', u'be', u'lightly', u'burthened;', u'the', u'honest', u'payment', u'of', u'our', u'debts', u'and', u'sacred', u'preservation', u'of', u'the', u'public', u'faith;', u'encouragement', u'of', u'agriculture,', u'and', u'of', u'commerce', u'as', u'its', u'handmaid;', u'the', u'diffusion', u'of', u'information', u'and', u'arraignment', u'of', u'all', u'abuses', u'at', u'the', u'bar', u'of', u'the', u'public', u'reason;', u'freedom', u'of', u'religion;', u'freedom', u'of', u'the', u'press,', u'and', u'freedom', u'of', u'person', u'under', u'the', u'protection', u'of', u'the', u'habeas', u'corpus,', u'and', u'trial', u'by', u'juries', u'impartially', u'selected.', u'These', u'principles', u'form', u'the', u'bright', u'constellation', u'which', u'has', u'gone', u'before', u'us', u'and', u'guided', u'our', u'steps', u'through', u'an', u'age', u'of', u'revolution', u'and', u'reformation.', u'The', u'wisdom', u'of', u'our', u'sages', u'and', u'blood', u'of', u'our', u'heroes', u'have', u'been', u'devoted', u'to', u'their', u'attainment.', u'They', u'should', u'be', u'the', u'creed', u'of', u'our', u'political', u'faith,', u'the', u'text', u'of', u'civic', u'instruction,', u'the', u'touchstone', u'by', u'which', u'to', u'try', u'the', u'services', u'of', u'those', u'we', u'trust;', u'and', u'should', u'we', u'wander', u'from', u'them', u'in', u'moments', u'of', u'error', u'or', u'of', u'alarm,', u'let', u'us', u'hasten', u'to', u'retrace', u'our', u'steps', u'and', u'to', u'regain', u'the', u'road', u'which', u'alone', u'leads', u'to', u'peace,', u'liberty,', u'and', u'safety.', u'I', u'repair,', u'then,', u'fellow-citizens,', u'to', u'the', u'post', u'you', u'have', u'assigned', u'me.', u'With', u'experience', u'enough', u'in', u'subordinate', u'offices', u'to', u'have', u'seen', u'the', u'difficulties', u'of', u'this', u'the', u'greatest', u'of', u'all,', u'I', u'have', u'learnt', u'to', u'expect', u'that', u'it', u'will', u'rarely', u'fall', u'to', u'the', u'lot', u'of', u'imperfect', u'man', u'to', u'retire', u'from', u'this', u'station', u'with', u'the', u'reputation', u'and', u'the', u'favor', u'which', u'bring', u'him', u'into', u'it.', u'Without', u'pretensions', u'to', u'that', u'high', u'confidence', u'you', u'reposed', u'in', u'our', u'first', u'and', u'greatest', u'revolutionary', u'character,', u'whose', u'preeminent', u'services', u'had', u'entitled', u'him', u'to', u'the', u'first', u'place', u'in', u'his', u\"country's\", u'love', u'and', u'destined', u'for', u'him', u'the', u'fairest', u'page', u'in', u'the', u'volume', u'of', u'faithful', u'history,', u'I', u'ask', u'so', u'much', u'confidence', u'only', u'as', u'may', u'give', u'firmness', u'and', u'effect', u'to', u'the', u'legal', u'administration', u'of', u'your', u'affairs.', u'I', u'shall', u'often', u'go', u'wrong', u'through', u'defect', u'of', u'judgment.', u'When', u'right,', u'I', u'shall', u'often', u'be', u'thought', u'wrong', u'by', u'those', u'whose', u'positions', u'will', u'not', u'command', u'a', u'view', u'of', u'the', u'whole', u'ground.', u'I', u'ask', u'your', u'indulgence', u'for', u'my', u'own', u'errors,', u'which', u'will', u'never', u'be', u'intentional,', u'and', u'your', u'support', u'against', u'the', u'errors', u'of', u'others,', u'who', u'may', u'condemn', u'what', u'they', u'would', u'not', u'if', u'seen', u'in', u'all', u'its', u'parts.', u'The', u'approbation', u'implied', u'by', u'your', u'suffrage', u'is', u'a', u'great', u'consolation', u'to', u'me', u'for', u'the', u'past,', u'and', u'my', u'future', u'solicitude', u'will', u'be', u'to', u'retain', u'the', u'good', u'opinion', u'of', u'those', u'who', u'have', u'bestowed', u'it', u'in', u'advance,', u'to', u'conciliate', u'that', u'of', u'others', u'by', u'doing', u'them', u'all', u'the', u'good', u'in', u'my', u'power,', u'and', u'to', u'be', u'instrumental', u'to', u'the', u'happiness', u'and', u'freedom', u'of', u'all.', u'Relying,', u'then,', u'on', u'the', u'patronage', u'of', u'your', u'good', u'will,', u'I', u'advance', u'with', u'obedience', u'to', u'the', u'work,', u'ready', u'to', u'retire', u'from', u'it', u'whenever', u'you', u'become', u'sensible', u'how', u'much', u'better', u'choice', u'it', u'is', u'in', u'your', u'power', u'to', u'make.', u'And', u'may', u'that', u'Infinite', u'Power', u'which', u'rules', u'the', u'destinies', u'of', u'the', u'universe', u'lead', u'our', u'councils', u'to', u'what', u'is', u'best,', u'and', u'give', u'them', u'a', u'favorable', u'issue', u'for', u'your', u'peace', u'and', u'prosperity.']\n"
       ]
      }
     ],
     "prompt_number": 54
    },
    {
     "cell_type": "code",
     "collapsed": false,
     "input": [
      "word1 = 'government'\n",
      "word2 = 'citizens'"
     ],
     "language": "python",
     "metadata": {},
     "outputs": [],
     "prompt_number": 40
    },
    {
     "cell_type": "code",
     "collapsed": false,
     "input": [
      "fdist = nltk.FreqDist(a)\n",
      "print fdist"
     ],
     "language": "python",
     "metadata": {},
     "outputs": [
      {
       "output_type": "stream",
       "stream": "stdout",
       "text": [
        "<FreqDist with 654 samples and 1431 outcomes>\n"
       ]
      }
     ],
     "prompt_number": 49
    },
    {
     "cell_type": "code",
     "collapsed": false,
     "input": [
      "tf1 = fdist.freq(word1)"
     ],
     "language": "python",
     "metadata": {},
     "outputs": [],
     "prompt_number": 52
    },
    {
     "cell_type": "code",
     "collapsed": false,
     "input": [
      "tf2 = fdist.freq(word2)"
     ],
     "language": "python",
     "metadata": {},
     "outputs": [],
     "prompt_number": 53
    },
    {
     "cell_type": "code",
     "collapsed": false,
     "input": [
      "a.count(word1)"
     ],
     "language": "python",
     "metadata": {},
     "outputs": [
      {
       "metadata": {},
       "output_type": "pyout",
       "prompt_number": 44,
       "text": [
        "5"
       ]
      }
     ],
     "prompt_number": 44
    },
    {
     "cell_type": "code",
     "collapsed": false,
     "input": [
      "a.count(word2)"
     ],
     "language": "python",
     "metadata": {},
     "outputs": [
      {
       "metadata": {},
       "output_type": "pyout",
       "prompt_number": 45,
       "text": [
        "3"
       ]
      }
     ],
     "prompt_number": 45
    },
    {
     "cell_type": "code",
     "collapsed": false,
     "input": [
      "len(a)"
     ],
     "language": "python",
     "metadata": {},
     "outputs": [
      {
       "metadata": {},
       "output_type": "pyout",
       "prompt_number": 46,
       "text": [
        "1431"
       ]
      }
     ],
     "prompt_number": 46
    },
    {
     "cell_type": "code",
     "collapsed": false,
     "input": [
      "corp.count(word1)"
     ],
     "language": "python",
     "metadata": {},
     "outputs": [
      {
       "metadata": {},
       "output_type": "pyout",
       "prompt_number": 30,
       "text": [
        "25"
       ]
      }
     ],
     "prompt_number": 30
    },
    {
     "cell_type": "code",
     "collapsed": false,
     "input": [
      "corp.count(word2)"
     ],
     "language": "python",
     "metadata": {},
     "outputs": [
      {
       "metadata": {},
       "output_type": "pyout",
       "prompt_number": 31,
       "text": [
        "15"
       ]
      }
     ],
     "prompt_number": 31
    },
    {
     "cell_type": "code",
     "collapsed": false,
     "input": [
      "num_doc_with_term1 = 0\n",
      "if word1 in a:\n",
      "    num_doc_with_term1 += 1\n",
      "if word1 in b: \n",
      "    num_doc_with_term1 += 1\n",
      "if word1 in c: \n",
      "    num_doc_with_term1 += 1\n",
      "print num_doc_with_term1"
     ],
     "language": "python",
     "metadata": {},
     "outputs": [
      {
       "output_type": "stream",
       "stream": "stdout",
       "text": [
        "3\n"
       ]
      }
     ],
     "prompt_number": 57
    },
    {
     "cell_type": "code",
     "collapsed": false,
     "input": [
      "num_doc_with_term2 = 0\n",
      "if word2 in a:\n",
      "    num_doc_with_term2 += 1\n",
      "if word2 in b: \n",
      "    num_doc_with_term2 += 1\n",
      "if word2 in c: \n",
      "    num_doc_with_term2 += 1\n",
      "print num_doc_with_term2"
     ],
     "language": "python",
     "metadata": {},
     "outputs": [
      {
       "output_type": "stream",
       "stream": "stdout",
       "text": [
        "3\n"
       ]
      }
     ],
     "prompt_number": 58
    },
    {
     "cell_type": "code",
     "collapsed": false,
     "input": [
      "idf1 = log(float(len(corp)) / num_doc_with_term1)\n",
      "idf1"
     ],
     "language": "python",
     "metadata": {},
     "outputs": [
      {
       "metadata": {},
       "output_type": "pyout",
       "prompt_number": 61,
       "text": [
        "7.5102480912739518"
       ]
      }
     ],
     "prompt_number": 61
    },
    {
     "cell_type": "code",
     "collapsed": false,
     "input": [
      "idf2 = log(float(len(corp)) / num_doc_with_term2)\n",
      "idf2"
     ],
     "language": "python",
     "metadata": {},
     "outputs": [
      {
       "metadata": {},
       "output_type": "pyout",
       "prompt_number": 63,
       "text": [
        "7.5102480912739518"
       ]
      }
     ],
     "prompt_number": 63
    },
    {
     "cell_type": "code",
     "collapsed": false,
     "input": [
      "tf_idf1 = tf1 / idf1\n",
      "tf_idf1"
     ],
     "language": "python",
     "metadata": {},
     "outputs": [
      {
       "metadata": {},
       "output_type": "pyout",
       "prompt_number": 66,
       "text": [
        "0.00046523897151858144"
       ]
      }
     ],
     "prompt_number": 66
    },
    {
     "cell_type": "code",
     "collapsed": false,
     "input": [
      "tf_idf2 = tf2 / idf2\n",
      "tf_idf2"
     ],
     "language": "python",
     "metadata": {},
     "outputs": [
      {
       "metadata": {},
       "output_type": "pyout",
       "prompt_number": 67,
       "text": [
        "0.00027914338291114889"
       ]
      }
     ],
     "prompt_number": 67
    },
    {
     "cell_type": "code",
     "collapsed": false,
     "input": [
      "# Natural Language Toolkit: Dispersion Plots\n",
      "#\n",
      "# Copyright (C) 2001-2015 NLTK Project\n",
      "# Author: Steven Bird <stevenbird1@gmail.com>\n",
      "# URL: <http://nltk.org/>\n",
      "# For license information, see LICENSE.TXT\n",
      "\n",
      "\"\"\"\n",
      "A utility for displaying lexical dispersion.\n",
      "\"\"\"\n",
      "\n",
      "def dispersion_plot(text, words, ignore_case=False):\n",
      "    \"\"\"\n",
      "    Generate a lexical dispersion plot.\n",
      "\n",
      "    :param text: The source text\n",
      "    :type text: list(str) or enum(str)\n",
      "    :param words: The target words\n",
      "    :type words: list of str\n",
      "    :param ignore_case: flag to set if case should be ignored when searching text\n",
      "    :type ignore_case: bool\n",
      "    \"\"\"\n",
      "\n",
      "    try:\n",
      "        import pylab\n",
      "    except ImportError:\n",
      "        raise ValueError('The plot function requires the matplotlib package (aka pylab).'\n",
      "                     'See http://matplotlib.sourceforge.net/')\n",
      "\n",
      "    text = list(text)\n",
      "    words.reverse()\n",
      "\n",
      "    if ignore_case:\n",
      "        words_to_comp = list(map(str.lower, words))\n",
      "        text_to_comp = list(map(str.lower, text))\n",
      "    else:\n",
      "        words_to_comp = words\n",
      "        text_to_comp = text\n",
      "\n",
      "    points = [(x,y) for x in range(len(text_to_comp))\n",
      "                    for y in range(len(words_to_comp))\n",
      "                    if text_to_comp[x] == words_to_comp[y]]\n",
      "    if points:\n",
      "        x, y = list(zip(*points))\n",
      "    else:\n",
      "        x = y = ()\n",
      "    pylab.plot(x, y, \"b|\", scalex=.1)\n",
      "    pylab.yticks(list(range(len(words))), words, color=\"b\")\n",
      "    pylab.ylim(-1, len(words))\n",
      "    pylab.title(\"Lexical Dispersion Plot\")\n",
      "    pylab.xlabel(\"Word Offset\")\n",
      "    pylab.show()\n",
      "\n",
      "if __name__ == '__main__':\n",
      "    import nltk.compat\n",
      "    from nltk.corpus import gutenberg\n",
      "    words = ['Elinor', 'Marianne', 'Edward', 'Willoughby']\n",
      "    dispersion_plot(gutenberg.words('austen-sense.txt'), words)"
     ],
     "language": "python",
     "metadata": {},
     "outputs": [],
     "prompt_number": "*"
    },
    {
     "cell_type": "code",
     "collapsed": false,
     "input": [],
     "language": "python",
     "metadata": {},
     "outputs": []
    }
   ],
   "metadata": {}
  }
 ]
}